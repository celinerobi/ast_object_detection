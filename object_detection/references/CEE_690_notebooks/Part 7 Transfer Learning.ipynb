{
 "cells": [
  {
   "cell_type": "markdown",
   "metadata": {},
   "source": [
    "# The material presented in this notebook is for using in Introduction to Deep Learning (CEE 690/ECE 590) course, Duke University, Fall 2019."
   ]
  },
  {
   "cell_type": "markdown",
   "metadata": {},
   "source": [
    "# __Transfer Learning__"
   ]
  },
  {
   "cell_type": "markdown",
   "metadata": {},
   "source": [
    "<img src=\"traditional_ml_setup.png\"  width=\"600\" height=\"300\">\n",
    "<img src=\"transfer_learning_setup.png\"  width=\"600\" height=\"300\">"
   ]
  },
  {
   "cell_type": "markdown",
   "metadata": {},
   "source": [
    "* ### Train ResNet on MNIST and transfer feature extractor (model without last layer) to FashionMNIST\n",
    "* ### Given a model pretrained from a large dataset and transfer the model parameters for another much smaller dataset"
   ]
  },
  {
   "cell_type": "code",
   "execution_count": 1,
   "metadata": {},
   "outputs": [],
   "source": [
    "import torch\n",
    "import torch.nn as nn\n",
    "import torch.nn.functional as F\n",
    "import torch.optim\n",
    "import torchvision\n",
    "import torchvision.transforms as transforms\n",
    "import torch.optim as optim\n",
    "import matplotlib.pyplot as plt\n",
    "import numpy as np\n",
    "%matplotlib inline"
   ]
  },
  {
   "cell_type": "markdown",
   "metadata": {},
   "source": [
    "## __MNIST__"
   ]
  },
  {
   "cell_type": "code",
   "execution_count": 2,
   "metadata": {},
   "outputs": [],
   "source": [
    "batch_size = 100\n",
    "train_set,test_set,train_loader,test_loader = {},{},{},{}\n",
    "transform = transforms.Compose(\n",
    "    [transforms.ToTensor(),\n",
    "     transforms.Normalize((0.5,), (0.5,))])\n",
    "train_set['mnist'] = torchvision.datasets.MNIST(root='./data', train=True, download=True, transform=transform)\n",
    "test_set['mnist'] = torchvision.datasets.MNIST(root='./data', train=False, download=True, transform=transform)\n",
    "train_loader['mnist'] = torch.utils.data.DataLoader(train_set['mnist'], batch_size=batch_size, shuffle=True, num_workers=0)\n",
    "test_loader['mnist'] = torch.utils.data.DataLoader(test_set['mnist'], batch_size=batch_size, shuffle=False, num_workers=0)"
   ]
  },
  {
   "cell_type": "markdown",
   "metadata": {},
   "source": [
    "## __Model architecture__"
   ]
  },
  {
   "cell_type": "code",
   "execution_count": 3,
   "metadata": {},
   "outputs": [],
   "source": [
    "class ResBlock(nn.Module):\n",
    "    def __init__(self, n_channels):\n",
    "        super(ResBlock, self).__init__()\n",
    "        self.conv1 = nn.Conv2d(in_channels=n_channels, out_channels=n_channels, kernel_size=3, stride=1, padding=1, bias=True)\n",
    "        self.bn1 = nn.BatchNorm2d(n_channels)\n",
    "        self.conv2 = nn.Conv2d(in_channels=n_channels, out_channels=n_channels, kernel_size=3, stride=1, padding=1, bias=True)\n",
    "        self.bn2 = nn.BatchNorm2d(n_channels)\n",
    "\n",
    "    def forward(self, x):\n",
    "        shortcut = x\n",
    "        x = F.relu(self.bn1(self.conv1(x)))\n",
    "        x = F.relu(self.bn2(self.conv2(x)) + shortcut)\n",
    "        return x\n",
    "\n",
    "class ResNet(nn.Module):\n",
    "    def __init__(self, in_channels, hidden_channels, out_channels):\n",
    "        super(ResNet, self).__init__()\n",
    "        self.conv1 = nn.Conv2d(in_channels=in_channels, out_channels=hidden_channels, kernel_size=1, stride=1, padding=0, bias=True)\n",
    "        self.res1 = ResBlock(hidden_channels)\n",
    "        self.res2 = ResBlock(hidden_channels)\n",
    "        self.classifier = nn.Linear(in_features=hidden_channels*7*7, out_features=out_channels)\n",
    "\n",
    "    def forward(self, x):\n",
    "        x = F.relu(self.conv1(x))\n",
    "        x = F.max_pool2d(x, 2)\n",
    "        x = self.res1(x)\n",
    "        x = F.max_pool2d(x, 2)\n",
    "        x = self.res2(x)\n",
    "        x = x.view(x.size(0),-1)\n",
    "        x = self.classifier(x)\n",
    "        return x"
   ]
  },
  {
   "cell_type": "markdown",
   "metadata": {},
   "source": [
    "## __Define train() and test()__"
   ]
  },
  {
   "cell_type": "code",
   "execution_count": 4,
   "metadata": {},
   "outputs": [],
   "source": [
    "def train(model, device, train_loader, criterion, optimizer, epoch):\n",
    "    train_loss = 0\n",
    "    model.train()\n",
    "    for batch_idx, (data, target) in enumerate(train_loader):\n",
    "        data, target = data.to(device), target.to(device)\n",
    "        optimizer.zero_grad()\n",
    "        output = model(data)\n",
    "        loss = criterion(output, target)\n",
    "        loss.backward()\n",
    "        optimizer.step()\n",
    "        train_loss += loss.item()\n",
    "        if batch_idx % (len(train_loader)//2) == 0:\n",
    "            print('Train({})[{:.0f}%]: Loss: {:.4f}'.format(\n",
    "                epoch, 100. * batch_idx / len(train_loader), train_loss/(batch_idx+1)))\n",
    "    return\n",
    "\n",
    "def test(model, device, test_loader, criterion, epoch):\n",
    "    model.eval()\n",
    "    test_loss = 0\n",
    "    correct = 0\n",
    "    with torch.no_grad():\n",
    "        for data, target in test_loader:\n",
    "            data, target = data.to(device), target.to(device)\n",
    "            output = model(data)\n",
    "            test_loss += criterion(output, target).item() # sum up batch loss\n",
    "            pred = output.argmax(dim=1, keepdim=True) # get the index of the max log-probability\n",
    "            correct += pred.eq(target.view_as(pred)).sum().item()\n",
    "\n",
    "    test_loss = (test_loss*batch_size)/len(test_loader.dataset)\n",
    "    acc = 100. * correct / len(test_loader.dataset)\n",
    "    print('Test({}): Loss: {:.4f}, Accuracy: {:.4f}%'.format(\n",
    "        epoch, test_loss, acc))\n",
    "    return acc"
   ]
  },
  {
   "cell_type": "markdown",
   "metadata": {},
   "source": [
    "## __Define make_optimizer() and make_schedule__"
   ]
  },
  {
   "cell_type": "code",
   "execution_count": 5,
   "metadata": {},
   "outputs": [],
   "source": [
    "def make_optimizer(optimizer_name, model, **kwargs):\n",
    "    if optimizer_name=='Adam':\n",
    "        optimizer = optim.Adam(model.parameters(),lr=kwargs['lr'])\n",
    "    elif optimizer_name=='SGD':\n",
    "        optimizer = optim.SGD(model.parameters(),lr=kwargs['lr'],momentum=kwargs['momentum'], weight_decay=kwargs['weight_decay'])\n",
    "    else:\n",
    "        raise ValueError('Not valid optimizer name')\n",
    "    return optimizer\n",
    "    \n",
    "def make_scheduler(scheduler_name, optimizer, **kwargs):\n",
    "    if scheduler_name=='MultiStepLR':\n",
    "        scheduler = optim.lr_scheduler.MultiStepLR(optimizer,milestones=kwargs['milestones'],gamma=kwargs['factor'])\n",
    "    else:\n",
    "        raise ValueError('Not valid scheduler name')\n",
    "    return scheduler"
   ]
  },
  {
   "cell_type": "code",
   "execution_count": 6,
   "metadata": {},
   "outputs": [
    {
     "name": "stdout",
     "output_type": "stream",
     "text": [
      "Test(0): Loss: 2.3238, Accuracy: 10.9700%\n",
      "Train(1)[0%]: Loss: 2.5630\n",
      "Train(1)[50%]: Loss: 0.5175\n",
      "Test(1): Loss: 0.0843, Accuracy: 97.4700%\n",
      "Optimizer Learning rate: 0.0500\n",
      "Train(2)[0%]: Loss: 0.0423\n",
      "Train(2)[50%]: Loss: 0.0710\n",
      "Test(2): Loss: 0.0522, Accuracy: 98.3900%\n",
      "Optimizer Learning rate: 0.0500\n",
      "Train(3)[0%]: Loss: 0.0389\n",
      "Train(3)[50%]: Loss: 0.0545\n",
      "Test(3): Loss: 0.0480, Accuracy: 98.5700%\n",
      "Optimizer Learning rate: 0.0500\n",
      "Train(4)[0%]: Loss: 0.0800\n",
      "Train(4)[50%]: Loss: 0.0443\n",
      "Test(4): Loss: 0.0399, Accuracy: 98.6900%\n",
      "Optimizer Learning rate: 0.0500\n",
      "Train(5)[0%]: Loss: 0.0167\n",
      "Train(5)[50%]: Loss: 0.0366\n",
      "Test(5): Loss: 0.0503, Accuracy: 98.4200%\n",
      "Optimizer Learning rate: 0.0050\n",
      "Train(6)[0%]: Loss: 0.0433\n",
      "Train(6)[50%]: Loss: 0.0268\n",
      "Test(6): Loss: 0.0301, Accuracy: 99.0100%\n",
      "Optimizer Learning rate: 0.0050\n",
      "Train(7)[0%]: Loss: 0.0288\n",
      "Train(7)[50%]: Loss: 0.0248\n",
      "Test(7): Loss: 0.0305, Accuracy: 98.9600%\n",
      "Optimizer Learning rate: 0.0050\n",
      "Train(8)[0%]: Loss: 0.0381\n",
      "Train(8)[50%]: Loss: 0.0239\n",
      "Test(8): Loss: 0.0298, Accuracy: 99.0400%\n",
      "Optimizer Learning rate: 0.0050\n",
      "Train(9)[0%]: Loss: 0.0030\n",
      "Train(9)[50%]: Loss: 0.0230\n",
      "Test(9): Loss: 0.0299, Accuracy: 99.0800%\n",
      "Optimizer Learning rate: 0.0050\n",
      "Train(10)[0%]: Loss: 0.0208\n",
      "Train(10)[50%]: Loss: 0.0236\n",
      "Test(10): Loss: 0.0294, Accuracy: 99.0500%\n",
      "Optimizer Learning rate: 0.0050\n"
     ]
    }
   ],
   "source": [
    "seed = 1\n",
    "device = 'cuda'\n",
    "data_name = 'mnist'\n",
    "optimizer_name = 'SGD'\n",
    "scheduler_name = 'MultiStepLR'\n",
    "num_epochs = 10\n",
    "lr = 0.05\n",
    "device = torch.device(device)\n",
    "torch.manual_seed(1)\n",
    "torch.cuda.manual_seed(1)\n",
    "in_channels = 1\n",
    "hidden_channels = 16\n",
    "out_channels = 10\n",
    "model_mnist = ResNet(in_channels, hidden_channels, out_channels).to(device)\n",
    "criterion = nn.CrossEntropyLoss()\n",
    "optimizer = make_optimizer(optimizer_name, model_mnist, lr=lr, momentum=0, weight_decay=0)\n",
    "scheduler = make_scheduler(scheduler_name, optimizer, milestones=[5], factor=0.1)\n",
    "acc_0 = test(model_mnist, device, test_loader[data_name], criterion, 0)\n",
    "acc = [acc_0]\n",
    "for epoch in range(1, num_epochs + 1):\n",
    "    train(model_mnist, device, train_loader[data_name], criterion, optimizer, epoch)\n",
    "    acc_i = test(model_mnist, device, test_loader[data_name], criterion, epoch)\n",
    "    scheduler.step()\n",
    "    print('Optimizer Learning rate: {0:.4f}'.format(optimizer.param_groups[0]['lr']))\n",
    "    acc.append(acc_i)"
   ]
  },
  {
   "cell_type": "markdown",
   "metadata": {},
   "source": [
    "### __Learning Curve__"
   ]
  },
  {
   "cell_type": "code",
   "execution_count": 7,
   "metadata": {},
   "outputs": [
    {
     "data": {
      "image/png": "[encoded data removed]",
      "text/plain": [
       "<Figure size 432x288 with 1 Axes>"
      ]
     },
     "metadata": {
      "needs_background": "light"
     },
     "output_type": "display_data"
    }
   ],
   "source": [
    "plt.figure()\n",
    "plt.plot(acc, label='MNIST')\n",
    "plt.xlabel('epoch')\n",
    "plt.ylabel('acc')\n",
    "plt.legend()\n",
    "plt.grid()"
   ]
  },
  {
   "cell_type": "markdown",
   "metadata": {},
   "source": [
    "## __FashionMNIST__"
   ]
  },
  {
   "cell_type": "markdown",
   "metadata": {},
   "source": [
    "### Randomly choose 500 points from FashionMNIST dataset"
   ]
  },
  {
   "cell_type": "code",
   "execution_count": 8,
   "metadata": {},
   "outputs": [],
   "source": [
    "batch_size = 100\n",
    "train_set,test_set,train_loader,test_loader = {},{},{},{}\n",
    "transform = transforms.Compose(\n",
    "    [transforms.ToTensor(),\n",
    "     transforms.Normalize((0.5,), (0.5,))])\n",
    "train_set['fashionmnist'] = torchvision.datasets.FashionMNIST(root='./data', train=True, download=True, transform=transform)\n",
    "test_set['fashionmnist'] = torchvision.datasets.FashionMNIST(root='./data', train=False, download=True, transform=transform)\n",
    "\n",
    "data_size = 500\n",
    "data_idx =  torch.randperm(len(train_set['fashionmnist']))\n",
    "data_idx = data_idx[:data_size]\n",
    "sub_dataset = torch.utils.data.Subset(train_set['fashionmnist'], data_idx)\n",
    "train_loader['fashionmnist'] = torch.utils.data.DataLoader(sub_dataset, batch_size=batch_size, shuffle=True, num_workers=0)\n",
    "test_loader['fashionmnist'] = torch.utils.data.DataLoader(test_set['fashionmnist'], batch_size=batch_size, shuffle=False, num_workers=0)"
   ]
  },
  {
   "cell_type": "markdown",
   "metadata": {},
   "source": [
    "### __Transfer model parameters but leave out last layer (classifier)__"
   ]
  },
  {
   "cell_type": "code",
   "execution_count": 9,
   "metadata": {},
   "outputs": [
    {
     "name": "stdout",
     "output_type": "stream",
     "text": [
      "Test(0): Loss: 2.6087, Accuracy: 4.1500%\n",
      "Train(1)[0%]: Loss: 2.6650\n",
      "Train(1)[40%]: Loss: 2.2005\n",
      "Train(1)[80%]: Loss: 1.7202\n",
      "Test(1): Loss: 0.4560, Accuracy: 84.4100%\n",
      "Optimizer Learning rate: 0.0500\n",
      "Train(2)[0%]: Loss: 0.4180\n",
      "Train(2)[40%]: Loss: 0.3284\n",
      "Train(2)[80%]: Loss: 0.2717\n",
      "Test(2): Loss: 0.1847, Accuracy: 95.8400%\n",
      "Optimizer Learning rate: 0.0500\n",
      "Train(3)[0%]: Loss: 0.1226\n",
      "Train(3)[40%]: Loss: 0.1266\n",
      "Train(3)[80%]: Loss: 0.1282\n",
      "Test(3): Loss: 0.1680, Accuracy: 96.1200%\n",
      "Optimizer Learning rate: 0.0500\n",
      "Train(4)[0%]: Loss: 0.1262\n",
      "Train(4)[40%]: Loss: 0.1059\n",
      "Train(4)[80%]: Loss: 0.1016\n",
      "Test(4): Loss: 0.1381, Accuracy: 96.3900%\n",
      "Optimizer Learning rate: 0.0500\n",
      "Train(5)[0%]: Loss: 0.0844\n",
      "Train(5)[40%]: Loss: 0.0812\n",
      "Train(5)[80%]: Loss: 0.0738\n",
      "Test(5): Loss: 0.1323, Accuracy: 96.7600%\n",
      "Optimizer Learning rate: 0.0050\n",
      "Train(6)[0%]: Loss: 0.0661\n",
      "Train(6)[40%]: Loss: 0.0565\n",
      "Train(6)[80%]: Loss: 0.0614\n",
      "Test(6): Loss: 0.1285, Accuracy: 96.8400%\n",
      "Optimizer Learning rate: 0.0050\n",
      "Train(7)[0%]: Loss: 0.0642\n",
      "Train(7)[40%]: Loss: 0.0641\n",
      "Train(7)[80%]: Loss: 0.0604\n",
      "Test(7): Loss: 0.1272, Accuracy: 96.8000%\n",
      "Optimizer Learning rate: 0.0050\n",
      "Train(8)[0%]: Loss: 0.0560\n",
      "Train(8)[40%]: Loss: 0.0562\n",
      "Train(8)[80%]: Loss: 0.0584\n",
      "Test(8): Loss: 0.1266, Accuracy: 96.7900%\n",
      "Optimizer Learning rate: 0.0050\n",
      "Train(9)[0%]: Loss: 0.0713\n",
      "Train(9)[40%]: Loss: 0.0660\n",
      "Train(9)[80%]: Loss: 0.0569\n",
      "Test(9): Loss: 0.1261, Accuracy: 96.7700%\n",
      "Optimizer Learning rate: 0.0050\n",
      "Train(10)[0%]: Loss: 0.0544\n",
      "Train(10)[40%]: Loss: 0.0544\n",
      "Train(10)[80%]: Loss: 0.0567\n",
      "Test(10): Loss: 0.1257, Accuracy: 96.8200%\n",
      "Optimizer Learning rate: 0.0050\n"
     ]
    }
   ],
   "source": [
    "device = 'cuda'\n",
    "data_name = 'fashionmnist'\n",
    "optimizer_name = 'SGD'\n",
    "scheduler_name = 'MultiStepLR'\n",
    "num_epochs = 10\n",
    "lr = 0.05\n",
    "in_channels = 1\n",
    "hidden_channels = 16\n",
    "out_channels = 10\n",
    "\n",
    "model_fashionmnist = ResNet(in_channels, hidden_channels, out_channels).to(device)\n",
    "model_fashionmnist.load_state_dict(model_mnist.state_dict())\n",
    "model_fashionmnist.classifier.reset_parameters()\n",
    "\n",
    "criterion = nn.CrossEntropyLoss()\n",
    "optimizer = make_optimizer(optimizer_name, model_fashionmnist, lr=lr, momentum=0, weight_decay=0)\n",
    "scheduler = make_scheduler(scheduler_name, optimizer, milestones=[5], factor=0.1)\n",
    "acc_0 = test(model_fashionmnist, device, test_loader[data_name], criterion, 0)\n",
    "acc_transfer = [acc_0]\n",
    "for epoch in range(1, num_epochs + 1):\n",
    "    train(model_fashionmnist, device, train_loader[data_name], criterion, optimizer, epoch)\n",
    "    acc_i = test(model_fashionmnist, device, test_loader[data_name], criterion, epoch)\n",
    "    scheduler.step()\n",
    "    print('Optimizer Learning rate: {0:.4f}'.format(optimizer.param_groups[0]['lr']))\n",
    "    acc_transfer.append(acc_i)"
   ]
  },
  {
   "cell_type": "markdown",
   "metadata": {},
   "source": [
    "### __No transfer and train from scratch__"
   ]
  },
  {
   "cell_type": "code",
   "execution_count": 10,
   "metadata": {},
   "outputs": [
    {
     "name": "stdout",
     "output_type": "stream",
     "text": [
      "Test(0): Loss: 2.3221, Accuracy: 10.3300%\n",
      "Train(1)[0%]: Loss: 2.6134\n",
      "Train(1)[40%]: Loss: 5.6417\n",
      "Train(1)[80%]: Loss: 7.8579\n",
      "Test(1): Loss: 4.9329, Accuracy: 18.7300%\n",
      "Optimizer Learning rate: 0.0500\n",
      "Train(2)[0%]: Loss: 8.2991\n",
      "Train(2)[40%]: Loss: 6.1177\n",
      "Train(2)[80%]: Loss: 4.7989\n",
      "Test(2): Loss: 2.2950, Accuracy: 30.9400%\n",
      "Optimizer Learning rate: 0.0500\n",
      "Train(3)[0%]: Loss: 1.7270\n",
      "Train(3)[40%]: Loss: 1.3897\n",
      "Train(3)[80%]: Loss: 1.1832\n",
      "Test(3): Loss: 1.4422, Accuracy: 64.5200%\n",
      "Optimizer Learning rate: 0.0500\n",
      "Train(4)[0%]: Loss: 0.6514\n",
      "Train(4)[40%]: Loss: 0.5538\n",
      "Train(4)[80%]: Loss: 0.6077\n",
      "Test(4): Loss: 0.9991, Accuracy: 78.4800%\n",
      "Optimizer Learning rate: 0.0500\n",
      "Train(5)[0%]: Loss: 0.3334\n",
      "Train(5)[40%]: Loss: 0.3915\n",
      "Train(5)[80%]: Loss: 0.4329\n",
      "Test(5): Loss: 0.7795, Accuracy: 79.1400%\n",
      "Optimizer Learning rate: 0.0050\n",
      "Train(6)[0%]: Loss: 0.4380\n",
      "Train(6)[40%]: Loss: 0.3600\n",
      "Train(6)[80%]: Loss: 0.3505\n",
      "Test(6): Loss: 0.6148, Accuracy: 84.5600%\n",
      "Optimizer Learning rate: 0.0050\n",
      "Train(7)[0%]: Loss: 0.2655\n",
      "Train(7)[40%]: Loss: 0.3210\n",
      "Train(7)[80%]: Loss: 0.3173\n",
      "Test(7): Loss: 0.5263, Accuracy: 86.6400%\n",
      "Optimizer Learning rate: 0.0050\n",
      "Train(8)[0%]: Loss: 0.2786\n",
      "Train(8)[40%]: Loss: 0.3295\n",
      "Train(8)[80%]: Loss: 0.3043\n",
      "Test(8): Loss: 0.4782, Accuracy: 87.1100%\n",
      "Optimizer Learning rate: 0.0050\n",
      "Train(9)[0%]: Loss: 0.2535\n",
      "Train(9)[40%]: Loss: 0.2793\n",
      "Train(9)[80%]: Loss: 0.2982\n",
      "Test(9): Loss: 0.4496, Accuracy: 87.6500%\n",
      "Optimizer Learning rate: 0.0050\n",
      "Train(10)[0%]: Loss: 0.3004\n",
      "Train(10)[40%]: Loss: 0.2865\n",
      "Train(10)[80%]: Loss: 0.2923\n",
      "Test(10): Loss: 0.4320, Accuracy: 87.9700%\n",
      "Optimizer Learning rate: 0.0050\n"
     ]
    }
   ],
   "source": [
    "model_fashionmnist = ResNet(in_channels, hidden_channels, out_channels).to(device)\n",
    "\n",
    "criterion = nn.CrossEntropyLoss()\n",
    "optimizer = make_optimizer(optimizer_name, model_fashionmnist, lr=lr, momentum=0, weight_decay=0)\n",
    "scheduler = make_scheduler(scheduler_name, optimizer, milestones=[5], factor=0.1)\n",
    "acc_0 = test(model_fashionmnist, device, test_loader[data_name], criterion, 0)\n",
    "acc_no_transfer = [acc_0]\n",
    "for epoch in range(1, num_epochs + 1):\n",
    "    train(model_fashionmnist, device, train_loader[data_name], criterion, optimizer, epoch)\n",
    "    acc_i = test(model_fashionmnist, device, test_loader[data_name], criterion, epoch)\n",
    "    scheduler.step()\n",
    "    print('Optimizer Learning rate: {0:.4f}'.format(optimizer.param_groups[0]['lr']))\n",
    "    acc_no_transfer.append(acc_i)"
   ]
  },
  {
   "cell_type": "markdown",
   "metadata": {},
   "source": [
    "### __Learning Curve__"
   ]
  },
  {
   "cell_type": "code",
   "execution_count": 11,
   "metadata": {},
   "outputs": [
    {
     "data": {
      "image/png": "[encoded data removed]",
      "text/plain": [
       "<Figure size 432x288 with 1 Axes>"
      ]
     },
     "metadata": {
      "needs_background": "light"
     },
     "output_type": "display_data"
    }
   ],
   "source": [
    "plt.figure()\n",
    "plt.plot(acc_transfer, label='FashionMNIST (Transfer from MNIST)')\n",
    "plt.plot(acc_no_transfer, label='FashionMNIST')\n",
    "plt.xlabel('epoch')\n",
    "plt.ylabel('acc')\n",
    "plt.legend()\n",
    "plt.grid()"
   ]
  },
  {
   "cell_type": "code",
   "execution_count": null,
   "metadata": {},
   "outputs": [],
   "source": []
  }
 ],
 "metadata": {
  "kernelspec": {
   "display_name": "Python 3",
   "language": "python",
   "name": "python3"
  },
  "language_info": {
   "codemirror_mode": {
    "name": "ipython",
    "version": 3
   },
   "file_extension": ".py",
   "mimetype": "text/x-python",
   "name": "python",
   "nbconvert_exporter": "python",
   "pygments_lexer": "ipython3",
   "version": "3.7.6"
  }
 },
 "nbformat": 4,
 "nbformat_minor": 4
}
