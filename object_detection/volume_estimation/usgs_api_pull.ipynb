{
 "cells": [
  {
   "cell_type": "code",
   "execution_count": 1,
   "id": "f4958ead-b930-4b0b-b0ab-6d8564d5509a",
   "metadata": {},
   "outputs": [],
   "source": [
    "import urllib3\n",
    "import requests\n",
    "import pandas as pd\n",
    "import json\n",
    "import geopandas as gpd\n",
    "from shapely.geometry import Polygon, Point, MultiPoint, MultiPolygon, MultiLineString\n",
    "import shapely\n",
    "import tqdm\n",
    "import copy"
   ]
  },
  {
   "cell_type": "code",
   "execution_count": 11,
   "id": "46126a90-3553-4f15-a36a-570de358483f",
   "metadata": {},
   "outputs": [],
   "source": [
    "cred/AST_dataset/object_detection/volume_estimation/usgs_tnm_api.py --tile_level_annotations_path \"//oit-nas-fe13dc.oit.duke.edu//data_commons-borsuk//complete_dataset_/tile_level_annotations/tile_level_annotations.geojson\" --dataset_name \"Lidar Point Cloud (LPC)\" --request_total_idx \"total\" --request_content_idx \"items\" --request_content_names_idx \"title\""
   ]
  },
  {
   "cell_type": "markdown",
   "id": "4e911b19-023a-4d9d-a5fd-14c9c48f51b1",
   "metadata": {},
   "source": [
    "# api access\n",
    "https://ers.cr.usgs.gov/profile/access <br>\n",
    "https://apps.nationalmap.gov/tnmaccess/ <br>\n",
    "http get in python <br>\n",
    "https://realpython.com/python-requests/ <br>\n",
    "https://www.w3schools.com/tags/ref_httpmethods.asp <br>\n",
    "https://stackoverflow.com/questions/645312/what-is-the-quickest-way-to-http-get-in-python <br>"
   ]
  },
  {
   "cell_type": "code",
   "execution_count": 5,
   "id": "f7df2abd-0100-4d18-8a85-76d794b8c006",
   "metadata": {},
   "outputs": [],
   "source": [
    "tnm_url = 'https://tnmaccess.nationalmap.gov/api/v1/products'"
   ]
  },
  {
   "cell_type": "markdown",
   "id": "2c258e68-be68-4216-99e6-11e3a562f69c",
   "metadata": {},
   "source": [
    "# read tile level AST data"
   ]
  },
  {
   "cell_type": "code",
   "execution_count": 7,
   "id": "63031549-fabf-41a9-a1b1-383ddc17beda",
   "metadata": {},
   "outputs": [],
   "source": [
    "tile_level_annotations_path = \"//oit-nas-fe13dc.oit.duke.edu//data_commons-borsuk//complete_dataset_/tile_level_annotations/tile_level_annotations.geojson\"\n",
    "tile_level_annotations = gpd.read_file(tile_level_annotations_path)\n",
    "#tile_level_annotations.columns"
   ]
  },
  {
   "cell_type": "markdown",
   "id": "27937fda-c774-47d8-9b94-06556c776019",
   "metadata": {},
   "source": [
    "# Lidar Data\n",
    "select the file with the largest bounding box/that is newest\n",
    "matches file type \"LAS,LAZ\""
   ]
  },
  {
   "cell_type": "code",
   "execution_count": 12,
   "id": "08dfa9e2-944a-466a-8bc2-456cbaa7ecb8",
   "metadata": {},
   "outputs": [
    {
     "name": "stderr",
     "output_type": "stream",
     "text": [
      "100%|██████████████████████████████████████████████████████████████████████████| 98169/98169 [9:29:25<00:00,  2.87it/s]\n"
     ]
    }
   ],
   "source": [
    "lpc_complete_df = usgs_api(tile_level_annotations, \"Lidar Point Cloud (LPC)\", \"total\", \"items\", \"title\")"
   ]
  },
  {
   "cell_type": "code",
   "execution_count": 15,
   "id": "08a6d52f-a061-4738-85cf-ab536a8f292d",
   "metadata": {},
   "outputs": [
    {
     "data": {
      "text/html": [
       "<div>\n",
       "<style scoped>\n",
       "    .dataframe tbody tr th:only-of-type {\n",
       "        vertical-align: middle;\n",
       "    }\n",
       "\n",
       "    .dataframe tbody tr th {\n",
       "        vertical-align: top;\n",
       "    }\n",
       "\n",
       "    .dataframe thead th {\n",
       "        text-align: right;\n",
       "    }\n",
       "</style>\n",
       "<table border=\"1\" class=\"dataframe\">\n",
       "  <thead>\n",
       "    <tr style=\"text-align: right;\">\n",
       "      <th></th>\n",
       "      <th>tank_idxs</th>\n",
       "      <th>usgs_tnm_names</th>\n",
       "      <th>urls</th>\n",
       "      <th>geometry</th>\n",
       "    </tr>\n",
       "  </thead>\n",
       "  <tbody>\n",
       "    <tr>\n",
       "      <th>0</th>\n",
       "      <td>0</td>\n",
       "      <td>USGS Lidar Point Cloud NY LongIsland-Z18 2014 ...</td>\n",
       "      <td>https://rockyweb.usgs.gov/vdelivery/Datasets/S...</td>\n",
       "      <td>POLYGON ((-73.7468593845017 40.6168374245241, ...</td>\n",
       "    </tr>\n",
       "    <tr>\n",
       "      <th>1</th>\n",
       "      <td>1</td>\n",
       "      <td>USGS Lidar Point Cloud NY LongIsland-Z18 2014 ...</td>\n",
       "      <td>https://rockyweb.usgs.gov/vdelivery/Datasets/S...</td>\n",
       "      <td>POLYGON ((-73.7468593845017 40.6168374245241, ...</td>\n",
       "    </tr>\n",
       "    <tr>\n",
       "      <th>2</th>\n",
       "      <td>2</td>\n",
       "      <td>USGS Lidar Point Cloud NY LongIsland-Z18 2014 ...</td>\n",
       "      <td>https://rockyweb.usgs.gov/vdelivery/Datasets/S...</td>\n",
       "      <td>POLYGON ((-73.7468593845017 40.6168374245241, ...</td>\n",
       "    </tr>\n",
       "    <tr>\n",
       "      <th>3</th>\n",
       "      <td>3</td>\n",
       "      <td>USGS Lidar Point Cloud NY LongIsland-Z18 2014 ...</td>\n",
       "      <td>https://rockyweb.usgs.gov/vdelivery/Datasets/S...</td>\n",
       "      <td>POLYGON ((-73.7468593845017 40.6168374245241, ...</td>\n",
       "    </tr>\n",
       "    <tr>\n",
       "      <th>4</th>\n",
       "      <td>4</td>\n",
       "      <td>USGS Lidar Point Cloud NY LongIsland-Z18 2014 ...</td>\n",
       "      <td>https://rockyweb.usgs.gov/vdelivery/Datasets/S...</td>\n",
       "      <td>POLYGON ((-73.7468593845017 40.6168374245241, ...</td>\n",
       "    </tr>\n",
       "    <tr>\n",
       "      <th>5</th>\n",
       "      <td>5</td>\n",
       "      <td>USGS Lidar Point Cloud NY LongIsland-Z18 2014 ...</td>\n",
       "      <td>https://rockyweb.usgs.gov/vdelivery/Datasets/S...</td>\n",
       "      <td>POLYGON ((-73.7468593845017 40.6168374245241, ...</td>\n",
       "    </tr>\n",
       "    <tr>\n",
       "      <th>6</th>\n",
       "      <td>6</td>\n",
       "      <td>USGS Lidar Point Cloud NY LongIsland-Z18 2014 ...</td>\n",
       "      <td>https://rockyweb.usgs.gov/vdelivery/Datasets/S...</td>\n",
       "      <td>POLYGON ((-73.7468593845017 40.6168374245241, ...</td>\n",
       "    </tr>\n",
       "    <tr>\n",
       "      <th>7</th>\n",
       "      <td>7</td>\n",
       "      <td>USGS Lidar Point Cloud NY LongIsland-Z18 2014 ...</td>\n",
       "      <td>https://rockyweb.usgs.gov/vdelivery/Datasets/S...</td>\n",
       "      <td>POLYGON ((-73.7468593845017 40.6168374245241, ...</td>\n",
       "    </tr>\n",
       "    <tr>\n",
       "      <th>8</th>\n",
       "      <td>8</td>\n",
       "      <td>USGS Lidar Point Cloud NY LongIsland-Z18 2014 ...</td>\n",
       "      <td>https://rockyweb.usgs.gov/vdelivery/Datasets/S...</td>\n",
       "      <td>POLYGON ((-73.7468593845017 40.6168374245241, ...</td>\n",
       "    </tr>\n",
       "    <tr>\n",
       "      <th>9</th>\n",
       "      <td>9</td>\n",
       "      <td>USGS Lidar Point Cloud NY LongIsland-Z18 2014 ...</td>\n",
       "      <td>https://rockyweb.usgs.gov/vdelivery/Datasets/S...</td>\n",
       "      <td>POLYGON ((-73.7468593845017 40.6168374245241, ...</td>\n",
       "    </tr>\n",
       "  </tbody>\n",
       "</table>\n",
       "</div>"
      ],
      "text/plain": [
       "   tank_idxs                                     usgs_tnm_names  \\\n",
       "0          0  USGS Lidar Point Cloud NY LongIsland-Z18 2014 ...   \n",
       "1          1  USGS Lidar Point Cloud NY LongIsland-Z18 2014 ...   \n",
       "2          2  USGS Lidar Point Cloud NY LongIsland-Z18 2014 ...   \n",
       "3          3  USGS Lidar Point Cloud NY LongIsland-Z18 2014 ...   \n",
       "4          4  USGS Lidar Point Cloud NY LongIsland-Z18 2014 ...   \n",
       "5          5  USGS Lidar Point Cloud NY LongIsland-Z18 2014 ...   \n",
       "6          6  USGS Lidar Point Cloud NY LongIsland-Z18 2014 ...   \n",
       "7          7  USGS Lidar Point Cloud NY LongIsland-Z18 2014 ...   \n",
       "8          8  USGS Lidar Point Cloud NY LongIsland-Z18 2014 ...   \n",
       "9          9  USGS Lidar Point Cloud NY LongIsland-Z18 2014 ...   \n",
       "\n",
       "                                                urls  \\\n",
       "0  https://rockyweb.usgs.gov/vdelivery/Datasets/S...   \n",
       "1  https://rockyweb.usgs.gov/vdelivery/Datasets/S...   \n",
       "2  https://rockyweb.usgs.gov/vdelivery/Datasets/S...   \n",
       "3  https://rockyweb.usgs.gov/vdelivery/Datasets/S...   \n",
       "4  https://rockyweb.usgs.gov/vdelivery/Datasets/S...   \n",
       "5  https://rockyweb.usgs.gov/vdelivery/Datasets/S...   \n",
       "6  https://rockyweb.usgs.gov/vdelivery/Datasets/S...   \n",
       "7  https://rockyweb.usgs.gov/vdelivery/Datasets/S...   \n",
       "8  https://rockyweb.usgs.gov/vdelivery/Datasets/S...   \n",
       "9  https://rockyweb.usgs.gov/vdelivery/Datasets/S...   \n",
       "\n",
       "                                            geometry  \n",
       "0  POLYGON ((-73.7468593845017 40.6168374245241, ...  \n",
       "1  POLYGON ((-73.7468593845017 40.6168374245241, ...  \n",
       "2  POLYGON ((-73.7468593845017 40.6168374245241, ...  \n",
       "3  POLYGON ((-73.7468593845017 40.6168374245241, ...  \n",
       "4  POLYGON ((-73.7468593845017 40.6168374245241, ...  \n",
       "5  POLYGON ((-73.7468593845017 40.6168374245241, ...  \n",
       "6  POLYGON ((-73.7468593845017 40.6168374245241, ...  \n",
       "7  POLYGON ((-73.7468593845017 40.6168374245241, ...  \n",
       "8  POLYGON ((-73.7468593845017 40.6168374245241, ...  \n",
       "9  POLYGON ((-73.7468593845017 40.6168374245241, ...  "
      ]
     },
     "execution_count": 15,
     "metadata": {},
     "output_type": "execute_result"
    }
   ],
   "source": [
    "lpc_complete_df[0:10]"
   ]
  },
  {
   "cell_type": "code",
   "execution_count": 30,
   "id": "a60905b8-c9c9-40df-81b3-cae9783c76d6",
   "metadata": {
    "tags": []
   },
   "outputs": [
    {
     "data": {
      "text/plain": [
       "[]"
      ]
     },
     "execution_count": 30,
     "metadata": {},
     "output_type": "execute_result"
    }
   ],
   "source": [
    "    #identify img/xml that have been moved\n",
    "    #img_paths_copy = copy.copy(img_paths)\n",
    "    #xml_paths_copy = copy.copy(xml_paths)"
   ]
  },
  {
   "cell_type": "code",
   "execution_count": 195,
   "id": "d3197ae7-8b24-4574-ac01-f9cb718c109f",
   "metadata": {},
   "outputs": [
    {
     "name": "stderr",
     "output_type": "stream",
     "text": [
      "0it [00:00, ?it/s]\n"
     ]
    }
   ],
   "source": [
    "#for geometry_list\n"
   ]
  },
  {
   "cell_type": "code",
   "execution_count": null,
   "id": "04ec0f2b-0471-4651-b845-cd9d23227149",
   "metadata": {},
   "outputs": [],
   "source": [
    "#check if bbox is included in list of lpc\n",
    "\n",
    "#request lpc"
   ]
  },
  {
   "cell_type": "code",
   "execution_count": 175,
   "id": "95cff32d-cd7c-4227-8cb8-67277cdbcc86",
   "metadata": {},
   "outputs": [
    {
     "ename": "SyntaxError",
     "evalue": "incomplete input (922950664.py, line 1)",
     "output_type": "error",
     "traceback": [
      "\u001b[1;36m  Cell \u001b[1;32mIn [175], line 1\u001b[1;36m\u001b[0m\n\u001b[1;33m    if 'lpc_gdf' in locals():\u001b[0m\n\u001b[1;37m                             ^\u001b[0m\n\u001b[1;31mSyntaxError\u001b[0m\u001b[1;31m:\u001b[0m incomplete input\n"
     ]
    }
   ],
   "source": [
    "lpc_gdf = None\n",
    "if lpc_gdf == None:\n",
    "    lpc_gdf = gpd.GeoDataFrame({'lpc_name': lpc_newest.index[0], \"lpc_url\": lpc_url, 'geometry': lpc_polygon})\n",
    "    return(gdf)  \n"
   ]
  },
  {
   "cell_type": "markdown",
   "id": "1f6d934b-f480-484b-b76e-3ce68227bf5c",
   "metadata": {},
   "source": [
    "# DEM Data\n",
    "select the file with the largest bounding box/that is newest\n",
    "matches file type \"LAS,LAZ\""
   ]
  },
  {
   "cell_type": "code",
   "execution_count": 20,
   "id": "83b72077-ccc1-40a7-a6e7-c09e6a949b3f",
   "metadata": {},
   "outputs": [
    {
     "name": "stdout",
     "output_type": "stream",
     "text": [
      "https://tnmaccess.nationalmap.gov/api/v1/products?bbox=-104.92070147938492%2C39.77659825409954%2C-104.9206454910845%2C39.776652353263664&datasets=Digital+Elevation+Model+%28DEM%29+1+meter&datasets=National+Elevation+Dataset+%28NED%29+1%2F9+arc-second\n"
     ]
    }
   ],
   "source": [
    "dem_1m_dataset = [\"Digital Elevation Model (DEM) 1 meter\"]\n",
    "dem_3m_dataset = [\"National Elevation Dataset (NED) 1/9 arc-second\"] #why is the list not including both\n",
    "dataset_str = \",\".join(map(str, dataset)) \n",
    "payload = {'bbox': bbox_str, \"datasets\": dataset}\n",
    "response = requests.get(url, payload)\n",
    "print(response.url)"
   ]
  },
  {
   "cell_type": "code",
   "execution_count": 21,
   "id": "33baa7e5-68cd-48e8-b9e7-0d26e8e4c8ce",
   "metadata": {},
   "outputs": [
    {
     "name": "stdout",
     "output_type": "stream",
     "text": [
      "Success!\n",
      "Success!\n"
     ]
    }
   ],
   "source": [
    "#We can check whether the request is sucessful0\n",
    "##first using the status code\n",
    "status_code = response.status_code # status code, shows whether the request was sucess (200 -> OK) or not (404 -> Not Found\n",
    "if status_code == 200:\n",
    "    print('Success!')\n",
    "elif status_code == 404:\n",
    "    print('Not Found.')\n",
    "    \n",
    "##then use the response return itself\n",
    "if response: #may not have actually worked (not just a 200 return), but returns a workable response (204 -> no content in message body for example\n",
    "    print('Success!')\n",
    "else:\n",
    "    print('An error has occurred.')"
   ]
  },
  {
   "cell_type": "code",
   "execution_count": 22,
   "id": "63d58475-db90-47fd-bb1d-4d045c40fee9",
   "metadata": {
    "collapsed": true,
    "jupyter": {
     "outputs_hidden": true
    },
    "tags": []
   },
   "outputs": [
    {
     "data": {
      "text/plain": [
       "{'total': 1,\n",
       " 'items': [{'title': 'USGS NED ned19_n40x00_w105x00_co_denvercity_2008 1/9 arc-second 2009 15 x 15 minute IMG',\n",
       "   'moreInfo': 'This tile of the National Elevation Dataset (NED) is 1/9 arc-second resolution. The National Elevation Dataset (NED) serves the elevation layer of The National Map, and provides basic elevation information for earth science studies and mapping applications in the United States. Scientists and resource managers use NED data for global change research, hydrologic modeling, resource monitoring, mapping and visualization, and many other applications. The NED is an elevation dataset that consists of seamless layers and a high resolution layer. Each of these layers are composed of the best available raster elevation data of the conterminous United States, Alaska, Hawaii, territorial islands, Mexico and Canada. The NED is updated continually [...]',\n",
       "   'sourceId': '5d0ae9c6e4b0e3d3116021b5',\n",
       "   'sourceName': 'ScienceBase',\n",
       "   'sourceOriginId': None,\n",
       "   'sourceOriginName': 'gda',\n",
       "   'metaUrl': 'https://www.sciencebase.gov/catalog/item/5d0ae9c6e4b0e3d3116021b5',\n",
       "   'vendorMetaUrl': 'http://ned.usgs.gov/NED/metadata.asp',\n",
       "   'publicationDate': '2009-01-01',\n",
       "   'lastUpdated': '2020-12-16T15:50:51.396-07:00',\n",
       "   'dateCreated': '2019-06-19T20:04:54.483-06:00',\n",
       "   'sizeInBytes': 143065925,\n",
       "   'extent': '15 x 15 minute',\n",
       "   'format': 'IMG',\n",
       "   'downloadURL': 'https://prd-tnm.s3.amazonaws.com/StagedProducts/Elevation/19/IMG/ned19_n40x00_w105x00_co_denvercity_2008.zip',\n",
       "   'downloadURLRaster': None,\n",
       "   'previewGraphicURL': 'https://prd-tnm.s3.amazonaws.com/StagedProducts/Elevation/19/IMG/ned19_n40x00_w105x00_co_denvercity_2008_thumb.jpg',\n",
       "   'downloadLazURL': None,\n",
       "   'urls': {'IMG': 'https://prd-tnm.s3.amazonaws.com/StagedProducts/Elevation/19/IMG/ned19_n40x00_w105x00_co_denvercity_2008.zip'},\n",
       "   'datasets': [],\n",
       "   'boundingBox': {'minX': -105.00018518518522,\n",
       "    'maxX': -104.74981481481484,\n",
       "    'minY': 39.74981481481482,\n",
       "    'maxY': 40.00018518518519},\n",
       "   'bestFitIndex': 0.0,\n",
       "   'body': 'This tile of the National Elevation Dataset (NED) is 1/9 arc-second resolution. The National Elevation Dataset (NED) serves the elevation layer of The National Map, and provides basic elevation information for earth science studies and mapping applications in the United States. Scientists and resource managers use NED data for global change research, hydrologic modeling, resource monitoring, mapping and visualization, and many other applications. The NED is an elevation dataset that consists of seamless layers and a high resolution layer. Each of these layers are composed of the best available raster elevation data of the conterminous United States, Alaska, Hawaii, territorial islands, Mexico and Canada. The NED is updated continually as new data become available. All NED data are in the public domain. The NED are derived from diverse source data that are processed to a common coordinate system and unit of vertical measure. These data are distributed in geographic coordinates in units of decimal degrees, and in conformance with the North American Datum of 1983 (NAD 83). All elevation values are in meters and, over the continental United States, are referenced to the North American Vertical Datum of 1988 (NAVD 88). The vertical reference will vary in other areas. NED data are available nationally (except for Alaska) at resolutions of 1 arc-second (approx. 30 meters) and 1/3 arc-second (approx. 10 meters), and in limited areas at 1/9 arc-second (approx. 3 meters). In most of Alaska, only lower resolution source data are available. As a result, most NED data for Alaska are at 2-arc-second (approx. 60 meters) grid spacing. Part of Alaska is available at the 1- and 1/3-arc-second resolution from IFSAR collections starting in 2010. Plans are in place for collection of statewide IFSAR in Alaska through 2016.',\n",
       "   'processingUrl': 'processingUrl',\n",
       "   'modificationInfo': '2020-12-16'}],\n",
       " 'errors': [],\n",
       " 'messages': ['Retrieved 1 item(s) Retrieved (1 through 50)'],\n",
       " 'sciencebaseQuery': 'https://www.sciencebase.gov/catalog/items?filter=tagslq%3Dtags.scheme%3A%22The+National+Map+Collection+Thesaurus%22+AND+%28tags.name%3A+%22National+Elevation+Dataset+%28NED%29+1%2F9+arc-second%22%29&filter=spatialQuery%3D%7B%22wkt%22%3A%22POLYGON%28%28-104.92070147938492+39.77659825409954%2C-104.9206454910845+39.77659825409954%2C-104.9206454910845+39.776652353263664%2C-104.92070147938492+39.776652353263664%2C-104.92070147938492+39.77659825409954%29%29%22%2C%22relation%22%3A%22intersects%22%7D&max=50&offset=0&fields=id%2Ctitle%2Csummary%2Cbody%2Ctags%2CwebLinks%2Cdates%2Cspatial%2Cidentifiers&format=json&sort=title&order=asc',\n",
       " 'filteredOut': 0}"
      ]
     },
     "execution_count": 22,
     "metadata": {},
     "output_type": "execute_result"
    }
   ],
   "source": [
    "#https://realpython.com/python-requests/\n",
    "#get the content from  request \n",
    "request_content = response.content #payload of the get request in bytes\n",
    "#print(request_content)\n",
    "response.encoding = 'utf-8' # Optional: requests infers this internally\n",
    "request_test = response.text #converts to a strong using a character encoder (UTF-8)\n",
    "#print(request_test)\n",
    "response.json()\n",
    "\n",
    "#response.headers['Content-Type']#"
   ]
  },
  {
   "cell_type": "code",
   "execution_count": 16,
   "id": "e8c9c19d-a873-4d19-8a22-fa1faba6e6f2",
   "metadata": {
    "collapsed": true,
    "jupyter": {
     "outputs_hidden": true
    },
    "tags": []
   },
   "outputs": [
    {
     "data": {
      "text/plain": [
       "{'total': 2,\n",
       " 'items': [{'title': 'USGS 1 Meter 13 x50y441 CO_DRCOG_2020_B20',\n",
       "   'moreInfo': 'This is a tile of the standard one-meter resolution digital elevation model (DEM) produced through the 3D Elevation Program (3DEP) . The elevations in this DEM represent the topographic bare-earth surface. USGS standard one-meter DEMs are produced exclusively from high resolution light detection and ranging (lidar) source data of one-meter or higher resolution. One-meter DEM surfaces are seamless within collection projects, but, not necessarily seamless across projects. The spatial reference used for tiles of the one-meter DEM within the conterminous United States (CONUS) is Universal Transverse Mercator (UTM) in units of meters, and in conformance with the North American Datum of 1983 (NAD83). All bare earth elevation values are in [...]',\n",
       "   'sourceId': '620de50ed34e6c7e83baa048',\n",
       "   'sourceName': 'ScienceBase',\n",
       "   'sourceOriginId': None,\n",
       "   'sourceOriginName': 'gda',\n",
       "   'metaUrl': 'https://www.sciencebase.gov/catalog/item/620de50ed34e6c7e83baa048',\n",
       "   'vendorMetaUrl': 'https://prd-tnm.s3.amazonaws.com/index.html?prefix=StagedProducts/Elevation/metadata/CO_DRCOG_2020_B20/CO_DRCOG_3_2020',\n",
       "   'publicationDate': '2022-02-10',\n",
       "   'lastUpdated': '2022-02-16T23:02:56.621-07:00',\n",
       "   'dateCreated': '2022-02-16T23:02:54.691-07:00',\n",
       "   'sizeInBytes': 247763914,\n",
       "   'extent': '10000 x 10000 meter',\n",
       "   'format': 'GeoTIFF',\n",
       "   'downloadURL': 'https://prd-tnm.s3.amazonaws.com/StagedProducts/Elevation/1m/Projects/CO_DRCOG_2020_B20/TIFF/USGS_1M_13_x50y441_CO_DRCOG_2020_B20.tif',\n",
       "   'downloadURLRaster': None,\n",
       "   'previewGraphicURL': 'https://prd-tnm.s3.amazonaws.com/StagedProducts/Elevation/1m/Projects/CO_DRCOG_2020_B20/browse/USGS_1M_13_x50y441_CO_DRCOG_2020_B20.jpg',\n",
       "   'downloadLazURL': None,\n",
       "   'urls': {'TIFF': 'https://prd-tnm.s3.amazonaws.com/StagedProducts/Elevation/1m/Projects/CO_DRCOG_2020_B20/TIFF/USGS_1M_13_x50y441_CO_DRCOG_2020_B20.tif'},\n",
       "   'datasets': [],\n",
       "   'boundingBox': {'minX': -105.0,\n",
       "    'maxX': -104.88312113199999,\n",
       "    'minY': 39.749848832000055,\n",
       "    'maxY': 39.840008745000034},\n",
       "   'bestFitIndex': 0.0,\n",
       "   'body': 'This is a tile of the standard one-meter resolution digital elevation model (DEM) produced through the 3D Elevation Program (3DEP) .  The elevations in this DEM represent the topographic bare-earth surface.  USGS standard one-meter DEMs are produced exclusively from high resolution light detection and ranging (lidar) source data of one-meter or higher resolution.  One-meter DEM surfaces are seamless within collection projects, but, not necessarily seamless across projects.  The spatial reference used for tiles of the one-meter DEM  within the conterminous United States (CONUS) is Universal Transverse Mercator (UTM) in units of meters, and in conformance with the North American Datum of 1983 (NAD83).  All bare earth elevation values are in meters and are referenced to the North American Vertical Datum of 1988 (NAVD88).  Each tile is distributed in the UTM Zone in which it lies.  If a tile crosses two UTM zones, it is delivered in both zones.  The one-meter DEM is the highest resolution standard DEM offered in the 3DEP product suite.  Other 3DEP products are nationally seamless DEMs in resolutions of 1/3, 1, and 2 arc seconds.  These seamless DEMs were referred to as the National Elevation Dataset (NED) from about 2000 through 2015 at which time they became the seamless DEM layers under the 3DEP program and lost the NED branding.  Other 3DEP products include five-meter DEMs in Alaska as well as various source datasets including the lidar point cloud and interferometric synthetic aperture radar (Ifsar) digital surface models and intensity images. All 3DEP products are public domain.',\n",
       "   'processingUrl': 'processingUrl',\n",
       "   'modificationInfo': '2022-02-17'},\n",
       "  {'title': 'USGS one meter x50y441 CO SoPlatteRiver-Lot5 2013',\n",
       "   'moreInfo': 'This is a tile of the standard one-meter resolution digital elevation model (DEM) produced through the 3D Elevation Program (3DEP). The elevations in this DEM represent the topographic bare-earth surface. USGS standard one-meter DEMs are produced exclusively from high resolution light detection and ranging (lidar) source data of one-meter or higher resolution. One-meter DEM surfaces are seamless within collection projects, but, not necessarily seamless across projects. The spatial reference used for tiles of the one-meter DEM within the conterminous United States (CONUS) is Universal Transverse Mercator (UTM) in units of meters, and in conformance with the North American Datum of 1983 (NAD83). All bare earth elevation values are in [...]',\n",
       "   'sourceId': '5eaa4e5882cefae35a220919',\n",
       "   'sourceName': 'ScienceBase',\n",
       "   'sourceOriginId': None,\n",
       "   'sourceOriginName': 'gda',\n",
       "   'metaUrl': 'https://www.sciencebase.gov/catalog/item/5eaa4e5882cefae35a220919',\n",
       "   'vendorMetaUrl': 'http://nationalmap.gov/3DEP/3dep_prodmetadata.html',\n",
       "   'publicationDate': '2020-03-30',\n",
       "   'lastUpdated': '2020-11-17T11:14:58.734-07:00',\n",
       "   'dateCreated': '2020-04-29T22:04:40.946-06:00',\n",
       "   'sizeInBytes': 371311247,\n",
       "   'extent': '10000 x 10000 meter',\n",
       "   'format': 'GeoTIFF',\n",
       "   'downloadURL': 'https://prd-tnm.s3.amazonaws.com/StagedProducts/Elevation/1m/Projects/CO_SoPlatteRiver_Lot5_2013/TIFF/USGS_one_meter_x50y441_CO_SoPlatteRiver_Lot5_2013.tif',\n",
       "   'downloadURLRaster': None,\n",
       "   'previewGraphicURL': 'https://prd-tnm.s3.amazonaws.com/StagedProducts/Elevation/1m/Projects/CO_SoPlatteRiver_Lot5_2013/browse/USGS_one_meter_x50y441_CO_SoPlatteRiver_Lot5_2013_thumb.jpg',\n",
       "   'downloadLazURL': None,\n",
       "   'urls': {'TIFF': 'https://prd-tnm.s3.amazonaws.com/StagedProducts/Elevation/1m/Projects/CO_SoPlatteRiver_Lot5_2013/TIFF/USGS_one_meter_x50y441_CO_SoPlatteRiver_Lot5_2013.tif'},\n",
       "   'datasets': [],\n",
       "   'boundingBox': {'minX': -105.000070127445,\n",
       "    'maxX': -104.883050912771,\n",
       "    'minY': 39.7497947006973,\n",
       "    'maxY': 39.8400628052312},\n",
       "   'bestFitIndex': 0.0,\n",
       "   'body': 'This is a tile of the standard one-meter resolution digital elevation model (DEM) produced through the 3D Elevation Program (3DEP). The elevations in this DEM represent the topographic bare-earth surface. USGS standard one-meter DEMs are produced exclusively from high resolution light detection and ranging (lidar) source data of one-meter or higher resolution. One-meter DEM surfaces are seamless within collection projects, but, not necessarily seamless across projects. The spatial reference used for tiles of the one-meter DEM within the conterminous United States (CONUS) is Universal Transverse Mercator (UTM) in units of meters, and in conformance with the North American Datum of 1983 (NAD83). All bare earth elevation values are in meters and are referenced to the North American Vertical Datum of 1988 (NAVD88). Each tile is distributed in the UTM Zone in which it lies. If a tile crosses two UTM zones, it is delivered in both zones. The one-meter DEM is the highest resolution standard DEM offered in the 3DEP product suite. Other 3DEP products are nationally seamless DEMs in resolutions of 1/3, 1, and 2 arc seconds. These seamless DEMs were referred to as the National Elevation Dataset (NED) from about 2000 through 2015 at which time they became the seamless DEM layers under the 3DEP program and lost the NED branding. Other 3DEP products include five-meter DEMs in Alaska as well as various source datasets including the lidar point cloud and interferometric synthetic aperture radar (Ifsar) digital surface models and intensity images. All 3DEP products are public domain.',\n",
       "   'processingUrl': 'processingUrl',\n",
       "   'modificationInfo': '2020-11-17'}],\n",
       " 'errors': [],\n",
       " 'messages': ['Retrieved 2 item(s) Retrieved (1 through 50)'],\n",
       " 'sciencebaseQuery': 'https://www.sciencebase.gov/catalog/items?filter=tagslq%3Dtags.scheme%3A%22The+National+Map+Collection+Thesaurus%22+AND+%28tags.name%3A+%22Digital+Elevation+Model+%28DEM%29+1+meter%22%29&filter=spatialQuery%3D%7B%22wkt%22%3A%22POLYGON%28%28-104.92070147938492+39.77659825409954%2C-104.9206454910845+39.77659825409954%2C-104.9206454910845+39.776652353263664%2C-104.92070147938492+39.776652353263664%2C-104.92070147938492+39.77659825409954%29%29%22%2C%22relation%22%3A%22intersects%22%7D&max=50&offset=0&fields=id%2Ctitle%2Csummary%2Cbody%2Ctags%2CwebLinks%2Cdates%2Cspatial%2Cidentifiers&format=json&sort=title&order=asc',\n",
       " 'filteredOut': 0}"
      ]
     },
     "execution_count": 16,
     "metadata": {},
     "output_type": "execute_result"
    }
   ],
   "source": [
    "#https://realpython.com/python-requests/\n",
    "#get the content from  request \n",
    "request_content = response.content #payload of the get request in bytes\n",
    "#print(request_content)\n",
    "response.encoding = 'utf-8' # Optional: requests infers this internally\n",
    "request_test = response.text #converts to a strong using a character encoder (UTF-8)\n",
    "#print(request_test)\n",
    "response.json()\n",
    "#response.headers['Content-Type']#"
   ]
  },
  {
   "cell_type": "code",
   "execution_count": null,
   "id": "007a8464-13a4-49e5-9331-c0ad50732f0b",
   "metadata": {},
   "outputs": [],
   "source": [
    "https://tnmaccess.nationalmap.gov/api/v1/products?bbox=-104.92070147938492,%20%2039.77659825409954,%20%20-104.9206454910845,%20%2039.776652353263664"
   ]
  }
 ],
 "metadata": {
  "kernelspec": {
   "display_name": "usgs_api",
   "language": "python",
   "name": "usgs_api"
  },
  "language_info": {
   "codemirror_mode": {
    "name": "ipython",
    "version": 3
   },
   "file_extension": ".py",
   "mimetype": "text/x-python",
   "name": "python",
   "nbconvert_exporter": "python",
   "pygments_lexer": "ipython3",
   "version": "3.10.4"
  }
 },
 "nbformat": 4,
 "nbformat_minor": 5
}
