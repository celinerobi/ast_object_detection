{
 "cells": [
  {
   "cell_type": "code",
   "execution_count": 1,
   "id": "f4958ead-b930-4b0b-b0ab-6d8564d5509a",
   "metadata": {},
   "outputs": [],
   "source": [
    "import urllib3"
   ]
  },
  {
   "cell_type": "code",
   "execution_count": null,
   "id": "d5408fdf-04fa-4a02-8743-7ba1132753e8",
   "metadata": {},
   "outputs": [],
   "source": [
    "# http get in python\n",
    "https://www.w3schools.com/tags/ref_httpmethods.asp\n",
    "https://stackoverflow.com/questions/645312/what-is-the-quickest-way-to-http-get-in-python"
   ]
  },
  {
   "cell_type": "code",
   "execution_count": 2,
   "id": "3bd39d10-c21c-4c05-b964-35816e323e61",
   "metadata": {},
   "outputs": [],
   "source": [
    "http = urllib3.PoolManager()"
   ]
  },
  {
   "cell_type": "code",
   "execution_count": null,
   "id": "1d55dfe4-132d-4a34-ad94-aa8adb29340c",
   "metadata": {},
   "outputs": [],
   "source": [
    "# api access\n",
    "https://ers.cr.usgs.gov/profile/access "
   ]
  },
  {
   "cell_type": "code",
   "execution_count": null,
   "id": "4bb23b5e-bcc8-4284-bf20-4e36f3a4a54f",
   "metadata": {},
   "outputs": [],
   "source": [
    "https://apps.nationalmap.gov/tnmaccess/"
   ]
  },
  {
   "cell_type": "code",
   "execution_count": 4,
   "id": "8956d783-d81f-4359-8be7-d0693423d37f",
   "metadata": {},
   "outputs": [
    {
     "name": "stdout",
     "output_type": "stream",
     "text": [
      "b'{\"message\":\"Missing Authentication Token\"}'\n",
      "{\"message\":\"Missing Authentication Token\"}\n",
      "403\n",
      "application/json\n"
     ]
    }
   ],
   "source": [
    "response = http.request('GET', 'https://tnmaccess.nationalmap.gov/api/v1/dataset')\n",
    "\n",
    "print(response.data) # Raw data.\n",
    "print(response.data.decode('utf-8')) # Text.\n",
    "print(response.status) # Status code.\n",
    "print(response.headers['Content-Type']) # Content type."
   ]
  },
  {
   "cell_type": "code",
   "execution_count": null,
   "id": "f66bb9f6-bba5-4abf-9c35-3f4816d1e3ca",
   "metadata": {},
   "outputs": [],
   "source": [
    "response = http.request('GET', 'https://example.com', headers={\n",
    "    'key1': 'value1',\n",
    "    'key2': 'value2'\n",
    "})"
   ]
  }
 ],
 "metadata": {
  "kernelspec": {
   "display_name": "usgs_api",
   "language": "python",
   "name": "usgs_api"
  },
  "language_info": {
   "codemirror_mode": {
    "name": "ipython",
    "version": 3
   },
   "file_extension": ".py",
   "mimetype": "text/x-python",
   "name": "python",
   "nbconvert_exporter": "python",
   "pygments_lexer": "ipython3",
   "version": "3.10.4"
  }
 },
 "nbformat": 4,
 "nbformat_minor": 5
}
