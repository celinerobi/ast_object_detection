{
 "cells": [
  {
   "cell_type": "code",
   "execution_count": 1,
   "id": "f4958ead-b930-4b0b-b0ab-6d8564d5509a",
   "metadata": {},
   "outputs": [],
   "source": [
    "import urllib3\n",
    "import requests\n",
    "    \n",
    "import json\n",
    "import geopandas as gpd"
   ]
  },
  {
   "cell_type": "code",
   "execution_count": 23,
   "id": "7855df0f-86e3-4de7-a6e5-f3aae39f6eb8",
   "metadata": {},
   "outputs": [],
   "source": [
    "# api access\n",
    "#https://ers.cr.usgs.gov/profile/access \n",
    "#https://apps.nationalmap.gov/tnmaccess/\n",
    "tnm_url = 'https://tnmaccess.nationalmap.gov/api/v1/products'"
   ]
  },
  {
   "cell_type": "code",
   "execution_count": null,
   "id": "5bbc4330-af89-4cad-9065-b978f38dd4e0",
   "metadata": {},
   "outputs": [],
   "source": [
    "#read tile level AST data"
   ]
  },
  {
   "cell_type": "code",
   "execution_count": 2,
   "id": "63031549-fabf-41a9-a1b1-383ddc17beda",
   "metadata": {},
   "outputs": [],
   "source": [
    "tile_level_annotations_path = \"//oit-nas-fe13dc.oit.duke.edu//data_commons-borsuk//complete_dataset_/tile_level_annotations/tile_level_annotations.geojson\"\n",
    "tile_level_annotations = gpd.read_file(tile_level_annotations_path)\n",
    "#tile_level_annotations.columns"
   ]
  },
  {
   "cell_type": "code",
   "execution_count": 24,
   "id": "09ea0d18-601a-4ecb-9686-0dc18da9dd2c",
   "metadata": {},
   "outputs": [],
   "source": [
    "for index, row in tile_level_annotations.iterrows():\n",
    "    minx = row['nw_corner_polygon_lon']\n",
    "    miny = row['se_corner_polygon_lat']\n",
    "    maxx = row['se_corner_polygon_lon']\n",
    "    maxy = row['nw_corner_polygon_lat']\n",
    "    bbox = [minx, miny, maxx, maxy]\n",
    "    bbox_str = \",\".join(map(str, bbox)) #https://stackoverflow.com/questions/32313623/passing-comma-separated-values-in-request-get-python\n",
    "    #polygon_vertices_lon_lat = json.loads(polygon_vertices_lon_lat)\n",
    "    #polygon_vertices_lon_lat = [item for sublist in polygon_vertices_lon_lat for item in sublist]"
   ]
  },
  {
   "cell_type": "markdown",
   "id": "0a2d6faf-9b28-4502-b563-b2871608d41f",
   "metadata": {},
   "source": [
    "# http get in python\n",
    "#https://realpython.com/python-requests/\n",
    "#https://www.w3schools.com/tags/ref_httpmethods.asp\n",
    "#https://stackoverflow.com/questions/645312/what-is-the-quickest-way-to-http-get-in-python"
   ]
  },
  {
   "cell_type": "code",
   "execution_count": null,
   "id": "1d55dfe4-132d-4a34-ad94-aa8adb29340c",
   "metadata": {},
   "outputs": [],
   "source": [
    "Notes "
   ]
  },
  {
   "cell_type": "markdown",
   "id": "1c356dd2-ee0a-4792-9837-cb2841b6f0da",
   "metadata": {
    "tags": []
   },
   "source": [
    "# Lidar Data\n",
    "select the file with the largest bounding box/that is newest\n",
    "matches file type \"LAS,LAZ\""
   ]
  },
  {
   "cell_type": "code",
   "execution_count": 25,
   "id": "2eb49f65-ab68-4053-ba92-0cec01a2cbc7",
   "metadata": {},
   "outputs": [
    {
     "name": "stdout",
     "output_type": "stream",
     "text": [
      "https://tnmaccess.nationalmap.gov/api/v1/products?bbox=-104.92070147938492%2C39.77659825409954%2C-104.9206454910845%2C39.776652353263664&datasets=Lidar+Point+Cloud+%28LPC%29\n"
     ]
    }
   ],
   "source": [
    "lpc_payload = {'bbox': bbox_str, \"datasets\": \"Lidar Point Cloud (LPC)\"}\n",
    "response = requests.get(tnm_url, lpc_payload)\n",
    "#print(response.url)"
   ]
  },
  {
   "cell_type": "code",
   "execution_count": null,
   "id": "a75e24dc-3790-4480-a9d0-cc969d48f910",
   "metadata": {},
   "outputs": [],
   "source": [
    "#We can check whether the request is sucessful0\n",
    "##first using the status code\n",
    "status_code = response.status_code \n",
    "# status code, shows whether the request was sucess (200 -> OK) or not (404 -> Not Found\n",
    "assert status_code == 200, \"An error occurred\"\n",
    "    print('Success!')\n",
    "elif status_code == 404:\n",
    "    print('Not Found.')\n",
    "    \n",
    "##then use the response return itself\n",
    "if response: #may not have actually worked (not just a 200 return), but returns a workable response (204 -> no content in message body for example\n",
    "    print('Success!')\n",
    "else:\n",
    "    print('An error has occurred.')"
   ]
  },
  {
   "cell_type": "code",
   "execution_count": null,
   "id": "7dba42f1-9b1c-42c0-bd48-8503b9575351",
   "metadata": {},
   "outputs": [],
   "source": [
    "#https://realpython.com/python-requests/\n",
    "#get the content from  request \n",
    "request_content = response.content #payload of the get request in bytes\n",
    "#print(request_content)\n",
    "response.encoding = 'utf-8' # Optional: requests infers this internally\n",
    "request_test = response.text #converts to a strong using a character encoder (UTF-8)\n",
    "#print(request_test)\n",
    "response.json()\n",
    "#response.headers['Content-Type']#"
   ]
  },
  {
   "cell_type": "markdown",
   "id": "1f6d934b-f480-484b-b76e-3ce68227bf5c",
   "metadata": {},
   "source": [
    "# DEM Data\n",
    "select the file with the largest bounding box/that is newest\n",
    "matches file type \"LAS,LAZ\""
   ]
  },
  {
   "cell_type": "code",
   "execution_count": 20,
   "id": "83b72077-ccc1-40a7-a6e7-c09e6a949b3f",
   "metadata": {},
   "outputs": [
    {
     "name": "stdout",
     "output_type": "stream",
     "text": [
      "https://tnmaccess.nationalmap.gov/api/v1/products?bbox=-104.92070147938492%2C39.77659825409954%2C-104.9206454910845%2C39.776652353263664&datasets=Digital+Elevation+Model+%28DEM%29+1+meter&datasets=National+Elevation+Dataset+%28NED%29+1%2F9+arc-second\n"
     ]
    }
   ],
   "source": [
    "dem_1m_dataset = [\"Digital Elevation Model (DEM) 1 meter\"]\n",
    "dem_3m_dataset = [\"National Elevation Dataset (NED) 1/9 arc-second\"] #why is the list not including both\n",
    "dataset_str = \",\".join(map(str, dataset)) \n",
    "payload = {'bbox': bbox_str, \"datasets\": dataset}\n",
    "response = requests.get(url, payload)\n",
    "print(response.url)"
   ]
  },
  {
   "cell_type": "code",
   "execution_count": 21,
   "id": "33baa7e5-68cd-48e8-b9e7-0d26e8e4c8ce",
   "metadata": {},
   "outputs": [
    {
     "name": "stdout",
     "output_type": "stream",
     "text": [
      "Success!\n",
      "Success!\n"
     ]
    }
   ],
   "source": [
    "#We can check whether the request is sucessful0\n",
    "##first using the status code\n",
    "status_code = response.status_code # status code, shows whether the request was sucess (200 -> OK) or not (404 -> Not Found\n",
    "if status_code == 200:\n",
    "    print('Success!')\n",
    "elif status_code == 404:\n",
    "    print('Not Found.')\n",
    "    \n",
    "##then use the response return itself\n",
    "if response: #may not have actually worked (not just a 200 return), but returns a workable response (204 -> no content in message body for example\n",
    "    print('Success!')\n",
    "else:\n",
    "    print('An error has occurred.')"
   ]
  },
  {
   "cell_type": "code",
   "execution_count": 22,
   "id": "63d58475-db90-47fd-bb1d-4d045c40fee9",
   "metadata": {},
   "outputs": [
    {
     "data": {
      "text/plain": [
       "{'total': 1,\n",
       " 'items': [{'title': 'USGS NED ned19_n40x00_w105x00_co_denvercity_2008 1/9 arc-second 2009 15 x 15 minute IMG',\n",
       "   'moreInfo': 'This tile of the National Elevation Dataset (NED) is 1/9 arc-second resolution. The National Elevation Dataset (NED) serves the elevation layer of The National Map, and provides basic elevation information for earth science studies and mapping applications in the United States. Scientists and resource managers use NED data for global change research, hydrologic modeling, resource monitoring, mapping and visualization, and many other applications. The NED is an elevation dataset that consists of seamless layers and a high resolution layer. Each of these layers are composed of the best available raster elevation data of the conterminous United States, Alaska, Hawaii, territorial islands, Mexico and Canada. The NED is updated continually [...]',\n",
       "   'sourceId': '5d0ae9c6e4b0e3d3116021b5',\n",
       "   'sourceName': 'ScienceBase',\n",
       "   'sourceOriginId': None,\n",
       "   'sourceOriginName': 'gda',\n",
       "   'metaUrl': 'https://www.sciencebase.gov/catalog/item/5d0ae9c6e4b0e3d3116021b5',\n",
       "   'vendorMetaUrl': 'http://ned.usgs.gov/NED/metadata.asp',\n",
       "   'publicationDate': '2009-01-01',\n",
       "   'lastUpdated': '2020-12-16T15:50:51.396-07:00',\n",
       "   'dateCreated': '2019-06-19T20:04:54.483-06:00',\n",
       "   'sizeInBytes': 143065925,\n",
       "   'extent': '15 x 15 minute',\n",
       "   'format': 'IMG',\n",
       "   'downloadURL': 'https://prd-tnm.s3.amazonaws.com/StagedProducts/Elevation/19/IMG/ned19_n40x00_w105x00_co_denvercity_2008.zip',\n",
       "   'downloadURLRaster': None,\n",
       "   'previewGraphicURL': 'https://prd-tnm.s3.amazonaws.com/StagedProducts/Elevation/19/IMG/ned19_n40x00_w105x00_co_denvercity_2008_thumb.jpg',\n",
       "   'downloadLazURL': None,\n",
       "   'urls': {'IMG': 'https://prd-tnm.s3.amazonaws.com/StagedProducts/Elevation/19/IMG/ned19_n40x00_w105x00_co_denvercity_2008.zip'},\n",
       "   'datasets': [],\n",
       "   'boundingBox': {'minX': -105.00018518518522,\n",
       "    'maxX': -104.74981481481484,\n",
       "    'minY': 39.74981481481482,\n",
       "    'maxY': 40.00018518518519},\n",
       "   'bestFitIndex': 0.0,\n",
       "   'body': 'This tile of the National Elevation Dataset (NED) is 1/9 arc-second resolution. The National Elevation Dataset (NED) serves the elevation layer of The National Map, and provides basic elevation information for earth science studies and mapping applications in the United States. Scientists and resource managers use NED data for global change research, hydrologic modeling, resource monitoring, mapping and visualization, and many other applications. The NED is an elevation dataset that consists of seamless layers and a high resolution layer. Each of these layers are composed of the best available raster elevation data of the conterminous United States, Alaska, Hawaii, territorial islands, Mexico and Canada. The NED is updated continually as new data become available. All NED data are in the public domain. The NED are derived from diverse source data that are processed to a common coordinate system and unit of vertical measure. These data are distributed in geographic coordinates in units of decimal degrees, and in conformance with the North American Datum of 1983 (NAD 83). All elevation values are in meters and, over the continental United States, are referenced to the North American Vertical Datum of 1988 (NAVD 88). The vertical reference will vary in other areas. NED data are available nationally (except for Alaska) at resolutions of 1 arc-second (approx. 30 meters) and 1/3 arc-second (approx. 10 meters), and in limited areas at 1/9 arc-second (approx. 3 meters). In most of Alaska, only lower resolution source data are available. As a result, most NED data for Alaska are at 2-arc-second (approx. 60 meters) grid spacing. Part of Alaska is available at the 1- and 1/3-arc-second resolution from IFSAR collections starting in 2010. Plans are in place for collection of statewide IFSAR in Alaska through 2016.',\n",
       "   'processingUrl': 'processingUrl',\n",
       "   'modificationInfo': '2020-12-16'}],\n",
       " 'errors': [],\n",
       " 'messages': ['Retrieved 1 item(s) Retrieved (1 through 50)'],\n",
       " 'sciencebaseQuery': 'https://www.sciencebase.gov/catalog/items?filter=tagslq%3Dtags.scheme%3A%22The+National+Map+Collection+Thesaurus%22+AND+%28tags.name%3A+%22National+Elevation+Dataset+%28NED%29+1%2F9+arc-second%22%29&filter=spatialQuery%3D%7B%22wkt%22%3A%22POLYGON%28%28-104.92070147938492+39.77659825409954%2C-104.9206454910845+39.77659825409954%2C-104.9206454910845+39.776652353263664%2C-104.92070147938492+39.776652353263664%2C-104.92070147938492+39.77659825409954%29%29%22%2C%22relation%22%3A%22intersects%22%7D&max=50&offset=0&fields=id%2Ctitle%2Csummary%2Cbody%2Ctags%2CwebLinks%2Cdates%2Cspatial%2Cidentifiers&format=json&sort=title&order=asc',\n",
       " 'filteredOut': 0}"
      ]
     },
     "execution_count": 22,
     "metadata": {},
     "output_type": "execute_result"
    }
   ],
   "source": [
    "#https://realpython.com/python-requests/\n",
    "#get the content from  request \n",
    "request_content = response.content #payload of the get request in bytes\n",
    "#print(request_content)\n",
    "response.encoding = 'utf-8' # Optional: requests infers this internally\n",
    "request_test = response.text #converts to a strong using a character encoder (UTF-8)\n",
    "#print(request_test)\n",
    "response.json()\n",
    "#response.headers['Content-Type']#"
   ]
  },
  {
   "cell_type": "code",
   "execution_count": 16,
   "id": "e8c9c19d-a873-4d19-8a22-fa1faba6e6f2",
   "metadata": {},
   "outputs": [
    {
     "data": {
      "text/plain": [
       "{'total': 2,\n",
       " 'items': [{'title': 'USGS 1 Meter 13 x50y441 CO_DRCOG_2020_B20',\n",
       "   'moreInfo': 'This is a tile of the standard one-meter resolution digital elevation model (DEM) produced through the 3D Elevation Program (3DEP) . The elevations in this DEM represent the topographic bare-earth surface. USGS standard one-meter DEMs are produced exclusively from high resolution light detection and ranging (lidar) source data of one-meter or higher resolution. One-meter DEM surfaces are seamless within collection projects, but, not necessarily seamless across projects. The spatial reference used for tiles of the one-meter DEM within the conterminous United States (CONUS) is Universal Transverse Mercator (UTM) in units of meters, and in conformance with the North American Datum of 1983 (NAD83). All bare earth elevation values are in [...]',\n",
       "   'sourceId': '620de50ed34e6c7e83baa048',\n",
       "   'sourceName': 'ScienceBase',\n",
       "   'sourceOriginId': None,\n",
       "   'sourceOriginName': 'gda',\n",
       "   'metaUrl': 'https://www.sciencebase.gov/catalog/item/620de50ed34e6c7e83baa048',\n",
       "   'vendorMetaUrl': 'https://prd-tnm.s3.amazonaws.com/index.html?prefix=StagedProducts/Elevation/metadata/CO_DRCOG_2020_B20/CO_DRCOG_3_2020',\n",
       "   'publicationDate': '2022-02-10',\n",
       "   'lastUpdated': '2022-02-16T23:02:56.621-07:00',\n",
       "   'dateCreated': '2022-02-16T23:02:54.691-07:00',\n",
       "   'sizeInBytes': 247763914,\n",
       "   'extent': '10000 x 10000 meter',\n",
       "   'format': 'GeoTIFF',\n",
       "   'downloadURL': 'https://prd-tnm.s3.amazonaws.com/StagedProducts/Elevation/1m/Projects/CO_DRCOG_2020_B20/TIFF/USGS_1M_13_x50y441_CO_DRCOG_2020_B20.tif',\n",
       "   'downloadURLRaster': None,\n",
       "   'previewGraphicURL': 'https://prd-tnm.s3.amazonaws.com/StagedProducts/Elevation/1m/Projects/CO_DRCOG_2020_B20/browse/USGS_1M_13_x50y441_CO_DRCOG_2020_B20.jpg',\n",
       "   'downloadLazURL': None,\n",
       "   'urls': {'TIFF': 'https://prd-tnm.s3.amazonaws.com/StagedProducts/Elevation/1m/Projects/CO_DRCOG_2020_B20/TIFF/USGS_1M_13_x50y441_CO_DRCOG_2020_B20.tif'},\n",
       "   'datasets': [],\n",
       "   'boundingBox': {'minX': -105.0,\n",
       "    'maxX': -104.88312113199999,\n",
       "    'minY': 39.749848832000055,\n",
       "    'maxY': 39.840008745000034},\n",
       "   'bestFitIndex': 0.0,\n",
       "   'body': 'This is a tile of the standard one-meter resolution digital elevation model (DEM) produced through the 3D Elevation Program (3DEP) .  The elevations in this DEM represent the topographic bare-earth surface.  USGS standard one-meter DEMs are produced exclusively from high resolution light detection and ranging (lidar) source data of one-meter or higher resolution.  One-meter DEM surfaces are seamless within collection projects, but, not necessarily seamless across projects.  The spatial reference used for tiles of the one-meter DEM  within the conterminous United States (CONUS) is Universal Transverse Mercator (UTM) in units of meters, and in conformance with the North American Datum of 1983 (NAD83).  All bare earth elevation values are in meters and are referenced to the North American Vertical Datum of 1988 (NAVD88).  Each tile is distributed in the UTM Zone in which it lies.  If a tile crosses two UTM zones, it is delivered in both zones.  The one-meter DEM is the highest resolution standard DEM offered in the 3DEP product suite.  Other 3DEP products are nationally seamless DEMs in resolutions of 1/3, 1, and 2 arc seconds.  These seamless DEMs were referred to as the National Elevation Dataset (NED) from about 2000 through 2015 at which time they became the seamless DEM layers under the 3DEP program and lost the NED branding.  Other 3DEP products include five-meter DEMs in Alaska as well as various source datasets including the lidar point cloud and interferometric synthetic aperture radar (Ifsar) digital surface models and intensity images. All 3DEP products are public domain.',\n",
       "   'processingUrl': 'processingUrl',\n",
       "   'modificationInfo': '2022-02-17'},\n",
       "  {'title': 'USGS one meter x50y441 CO SoPlatteRiver-Lot5 2013',\n",
       "   'moreInfo': 'This is a tile of the standard one-meter resolution digital elevation model (DEM) produced through the 3D Elevation Program (3DEP). The elevations in this DEM represent the topographic bare-earth surface. USGS standard one-meter DEMs are produced exclusively from high resolution light detection and ranging (lidar) source data of one-meter or higher resolution. One-meter DEM surfaces are seamless within collection projects, but, not necessarily seamless across projects. The spatial reference used for tiles of the one-meter DEM within the conterminous United States (CONUS) is Universal Transverse Mercator (UTM) in units of meters, and in conformance with the North American Datum of 1983 (NAD83). All bare earth elevation values are in [...]',\n",
       "   'sourceId': '5eaa4e5882cefae35a220919',\n",
       "   'sourceName': 'ScienceBase',\n",
       "   'sourceOriginId': None,\n",
       "   'sourceOriginName': 'gda',\n",
       "   'metaUrl': 'https://www.sciencebase.gov/catalog/item/5eaa4e5882cefae35a220919',\n",
       "   'vendorMetaUrl': 'http://nationalmap.gov/3DEP/3dep_prodmetadata.html',\n",
       "   'publicationDate': '2020-03-30',\n",
       "   'lastUpdated': '2020-11-17T11:14:58.734-07:00',\n",
       "   'dateCreated': '2020-04-29T22:04:40.946-06:00',\n",
       "   'sizeInBytes': 371311247,\n",
       "   'extent': '10000 x 10000 meter',\n",
       "   'format': 'GeoTIFF',\n",
       "   'downloadURL': 'https://prd-tnm.s3.amazonaws.com/StagedProducts/Elevation/1m/Projects/CO_SoPlatteRiver_Lot5_2013/TIFF/USGS_one_meter_x50y441_CO_SoPlatteRiver_Lot5_2013.tif',\n",
       "   'downloadURLRaster': None,\n",
       "   'previewGraphicURL': 'https://prd-tnm.s3.amazonaws.com/StagedProducts/Elevation/1m/Projects/CO_SoPlatteRiver_Lot5_2013/browse/USGS_one_meter_x50y441_CO_SoPlatteRiver_Lot5_2013_thumb.jpg',\n",
       "   'downloadLazURL': None,\n",
       "   'urls': {'TIFF': 'https://prd-tnm.s3.amazonaws.com/StagedProducts/Elevation/1m/Projects/CO_SoPlatteRiver_Lot5_2013/TIFF/USGS_one_meter_x50y441_CO_SoPlatteRiver_Lot5_2013.tif'},\n",
       "   'datasets': [],\n",
       "   'boundingBox': {'minX': -105.000070127445,\n",
       "    'maxX': -104.883050912771,\n",
       "    'minY': 39.7497947006973,\n",
       "    'maxY': 39.8400628052312},\n",
       "   'bestFitIndex': 0.0,\n",
       "   'body': 'This is a tile of the standard one-meter resolution digital elevation model (DEM) produced through the 3D Elevation Program (3DEP). The elevations in this DEM represent the topographic bare-earth surface. USGS standard one-meter DEMs are produced exclusively from high resolution light detection and ranging (lidar) source data of one-meter or higher resolution. One-meter DEM surfaces are seamless within collection projects, but, not necessarily seamless across projects. The spatial reference used for tiles of the one-meter DEM within the conterminous United States (CONUS) is Universal Transverse Mercator (UTM) in units of meters, and in conformance with the North American Datum of 1983 (NAD83). All bare earth elevation values are in meters and are referenced to the North American Vertical Datum of 1988 (NAVD88). Each tile is distributed in the UTM Zone in which it lies. If a tile crosses two UTM zones, it is delivered in both zones. The one-meter DEM is the highest resolution standard DEM offered in the 3DEP product suite. Other 3DEP products are nationally seamless DEMs in resolutions of 1/3, 1, and 2 arc seconds. These seamless DEMs were referred to as the National Elevation Dataset (NED) from about 2000 through 2015 at which time they became the seamless DEM layers under the 3DEP program and lost the NED branding. Other 3DEP products include five-meter DEMs in Alaska as well as various source datasets including the lidar point cloud and interferometric synthetic aperture radar (Ifsar) digital surface models and intensity images. All 3DEP products are public domain.',\n",
       "   'processingUrl': 'processingUrl',\n",
       "   'modificationInfo': '2020-11-17'}],\n",
       " 'errors': [],\n",
       " 'messages': ['Retrieved 2 item(s) Retrieved (1 through 50)'],\n",
       " 'sciencebaseQuery': 'https://www.sciencebase.gov/catalog/items?filter=tagslq%3Dtags.scheme%3A%22The+National+Map+Collection+Thesaurus%22+AND+%28tags.name%3A+%22Digital+Elevation+Model+%28DEM%29+1+meter%22%29&filter=spatialQuery%3D%7B%22wkt%22%3A%22POLYGON%28%28-104.92070147938492+39.77659825409954%2C-104.9206454910845+39.77659825409954%2C-104.9206454910845+39.776652353263664%2C-104.92070147938492+39.776652353263664%2C-104.92070147938492+39.77659825409954%29%29%22%2C%22relation%22%3A%22intersects%22%7D&max=50&offset=0&fields=id%2Ctitle%2Csummary%2Cbody%2Ctags%2CwebLinks%2Cdates%2Cspatial%2Cidentifiers&format=json&sort=title&order=asc',\n",
       " 'filteredOut': 0}"
      ]
     },
     "execution_count": 16,
     "metadata": {},
     "output_type": "execute_result"
    }
   ],
   "source": [
    "#https://realpython.com/python-requests/\n",
    "#get the content from  request \n",
    "request_content = response.content #payload of the get request in bytes\n",
    "#print(request_content)\n",
    "response.encoding = 'utf-8' # Optional: requests infers this internally\n",
    "request_test = response.text #converts to a strong using a character encoder (UTF-8)\n",
    "#print(request_test)\n",
    "response.json()\n",
    "#response.headers['Content-Type']#"
   ]
  },
  {
   "cell_type": "code",
   "execution_count": null,
   "id": "007a8464-13a4-49e5-9331-c0ad50732f0b",
   "metadata": {},
   "outputs": [],
   "source": [
    "https://tnmaccess.nationalmap.gov/api/v1/products?bbox=-104.92070147938492,%20%2039.77659825409954,%20%20-104.9206454910845,%20%2039.776652353263664"
   ]
  }
 ],
 "metadata": {
  "kernelspec": {
   "display_name": "usgs_api",
   "language": "python",
   "name": "usgs_api"
  },
  "language_info": {
   "codemirror_mode": {
    "name": "ipython",
    "version": 3
   },
   "file_extension": ".py",
   "mimetype": "text/x-python",
   "name": "python",
   "nbconvert_exporter": "python",
   "pygments_lexer": "ipython3",
   "version": "3.10.4"
  }
 },
 "nbformat": 4,
 "nbformat_minor": 5
}
