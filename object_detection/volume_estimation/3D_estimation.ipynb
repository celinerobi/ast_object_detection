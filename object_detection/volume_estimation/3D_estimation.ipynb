{
 "cells": [
  {
   "cell_type": "markdown",
   "id": "98da9e99-c497-4ca3-a2dc-467e53820468",
   "metadata": {
    "tags": []
   },
   "source": [
    "# Read in Packages"
   ]
  },
  {
   "cell_type": "code",
   "execution_count": 1,
   "id": "75d4cc58-7a65-4c91-92f3-d0fdaf17817e",
   "metadata": {},
   "outputs": [],
   "source": [
    "import os\n",
    "import json\n",
    "from glob import glob\n",
    "import tempfile\n",
    "import shutil\n",
    "import tqdm\n",
    "import numpy as np\n",
    "import pandas as pd\n",
    "import geopandas as gpd #important\n",
    "import cv2\n",
    "import laspy #las open #https://laspy.readthedocs.io/en/latest/\n",
    "from shapely.ops import transform\n",
    "from shapely.geometry import Point,Polygon #convert las to gpd\n",
    "import rioxarray\n",
    "import rasterio\n",
    "from rasterio.warp import calculate_default_transform, reproject, Resampling\n",
    "import pyproj\n",
    "from pyproj import CRS\n",
    "from pyproj.aoi import AreaOfInterest\n",
    "from pyproj.database import query_utm_crs_info\n",
    "import matplotlib.pyplot as plt\n",
    "import rtree\n",
    "#import pygeos"
   ]
  },
  {
   "cell_type": "markdown",
   "id": "7478e8c9-0e84-43ef-b785-0b5f3476ad19",
   "metadata": {
    "tags": []
   },
   "source": [
    "# Functions"
   ]
  },
  {
   "cell_type": "code",
   "execution_count": 2,
   "id": "158e91b1-e312-4c27-877e-86a3dc2f723a",
   "metadata": {},
   "outputs": [],
   "source": [
    "def reproject_dems(initial_dem_dir, final_dem_dir):\n",
    "    \"\"\" Reproject DEMS\n",
    "    Args: \n",
    "    initial_dem_dir(str): directory holding DEMS with original projection\n",
    "    final_dem_dir(str): directory to hold reprojected imaes \n",
    "    \"\"\"\n",
    "    initial_dem_paths = glob(initial_dem_dir + \"/*.tif\")\n",
    "    dst_crs = 'EPSG:4326'\n",
    "    for initial_dem_path in initial_dem_paths: #get the bounding box polygons\n",
    "        dem_name = os.path.splitext(os.path.basename(initial_dem_path))[0]\n",
    "        with rasterio.open(initial_dem_path) as src:\n",
    "            transform, width, height = calculate_default_transform(\n",
    "                src.crs, dst_crs, src.width, src.height, *src.bounds)\n",
    "            kwargs = src.meta.copy()\n",
    "            kwargs.update({'crs': dst_crs,\n",
    "                            'transform': transform,\n",
    "                            'width': width,\n",
    "                            'height': height })\n",
    "            with rasterio.open(os.path.join(final_dem_dir, dem_name+\"_EPSG4326.tif\"), 'w', **kwargs) as dst:\n",
    "                for i in range(1, src.count + 1):\n",
    "                    reproject(source=rasterio.band(src, i),\n",
    "                                destination=rasterio.band(dst, i),\n",
    "                                src_transform=src.transform,\n",
    "                                src_crs=src.crs,\n",
    "                                dst_transform=transform,\n",
    "                                dst_crs=dst_crs,\n",
    "                                resampling=Resampling.nearest)"
   ]
  },
  {
   "cell_type": "code",
   "execution_count": 4,
   "id": "93bca381-dff6-488f-8b91-930b9f24ad21",
   "metadata": {},
   "outputs": [],
   "source": [
    "def getFeatures(gdf):\n",
    "    \"\"\"Function to parse features from GeoDataFrame in such a manner that rasterio wants them\"\"\"\n",
    "    return [json.loads(gdf.to_json())['features'][0]['geometry']]"
   ]
  },
  {
   "cell_type": "code",
   "execution_count": 5,
   "id": "729d30b3-a3a6-4bbc-9225-f9d1f916bcb0",
   "metadata": {},
   "outputs": [],
   "source": [
    "#get utm crs\n",
    "def get_utm_crs_from_epsg_poly(poly):\n",
    "    utm_crs_list = query_utm_crs_info(datum_name=\"WGS 84\",\n",
    "        area_of_interest=AreaOfInterest(west_lon_degree=poly.bounds[0],\n",
    "                                        south_lat_degree=poly.bounds[1],\n",
    "                                        east_lon_degree=poly.bounds[2],\n",
    "                                        north_lat_degree=poly.bounds[3],),)\n",
    "    utm_crs = CRS.from_epsg(utm_crs_list[0].code)\n",
    "    return(utm_crs)\n",
    "def reproject_raster_mask_to_utm(poly,src, out_img, out_transform):\n",
    "    \"\"\"\n",
    "    For a given raster, reproject to a UTM. \n",
    "    Args: \n",
    "    poly: the original polygon cooresponding to the raster \n",
    "    src: source raster \n",
    "    out_img: raster mask\n",
    "    out_transform: corresponding out transform for the raster mask \n",
    "    \"\"\"\n",
    "    dirpath = tempfile.mkdtemp()\n",
    "    temp_ = os.path.join(dirpath, \"temp_.tif\")\n",
    "    \n",
    "    #reproject to utm \n",
    "    utm_crs = get_utm_crs_from_epsg_poly(poly)\n",
    "    kwargs = src.meta.copy() #dem is src in other code\n",
    "    kwargs.update({'crs': utm_crs,\n",
    "                 \"height\": out_img.shape[1],\n",
    "                 \"width\": out_img.shape[2],\n",
    "                 \"transform\": out_transform})\n",
    "\n",
    "    #write the new raster\n",
    "    out_img_utm = np.zeros((out_img.shape[1], out_img.shape[2]), dtype=np.uint8)\n",
    "    with rasterio.open(temp_, 'w', **kwargs) as dst:\n",
    "        reproject(source=out_img,\n",
    "                    destination=out_img_utm,\n",
    "                    src_transform=src.transform,\n",
    "                    src_crs=src.crs,\n",
    "                    dst_crs=utm_crs,\n",
    "                    resampling=Resampling.nearest)\n",
    "    #delete temp file\n",
    "    shutil.rmtree(dirpath)\n",
    "    return(out_img_utm)"
   ]
  },
  {
   "cell_type": "code",
   "execution_count": 6,
   "id": "154d3f9c-8dc8-40a6-a912-a8ba87c78a1d",
   "metadata": {},
   "outputs": [],
   "source": [
    "def average_bare_earth_elevation_for_tanks(gdf, dem_paths):    \n",
    "    \"\"\" Calculate the diameter of a given bounding bbox for imagery of a given resolution\n",
    "    Arg:\n",
    "    bbox(list): a list of the (xmin, ymin, xmax, ymax) coordinates for box \n",
    "    resolution(float): the (gsd) resolution of the imagery\n",
    "    Returns:\n",
    "    (diameter): the diameter of the bbox of interest\n",
    "    \"\"\"\n",
    "    #identify inundation bounds                               \n",
    "    geometry = []\n",
    "    dem_names = []\n",
    "    for dem_path in dem_paths: #get the bounding box polygons\n",
    "        dem_name = os.path.basename(dem_path)\n",
    "        dem_names.append(dem_name)\n",
    "        dem = rasterio.open(dem_path)\n",
    "        min_lon, min_lat, max_lon, max_lat = dem.bounds\n",
    "        geometry.append(Polygon([(min_lon,min_lat),(min_lon,max_lat),(max_lon,max_lat),(max_lon,min_lat)]))\n",
    "    #make dataframe of inundation map bounds\n",
    "    dem_bounds = gpd.GeoDataFrame({'name': dem_name,'geometry': geometry})\n",
    "\n",
    "    #create dictionary for average bare earth elevation values for each tank\n",
    "    average_bare_earth_elevation = np.array([-99999] *len(gdf))\n",
    "\n",
    "    #get average bare earth elevation values values\n",
    "    for tank_index, tank_poly in enumerate(gdf[\"geometry\"]): #iterate over the tank polygons\n",
    "        for dem_index, dem_poly in enumerate(dem_bounds[\"geometry\"]): #iterate over the dem polygons\n",
    "            if dem_poly.contains(tank_poly): #identify whether the bbox is inside of the dem map\n",
    "                #make a geodataframe for each tank polygon that is contained within the dem\n",
    "                geo = gpd.GeoDataFrame({'geometry': tank_poly}, index=[0], crs=gdf.crs)\n",
    "                coords = getFeatures(geo) \n",
    "                dem = rasterio.open(dem_paths[dem_index])\n",
    "                out_img, out_transform = rasterio.mask.mask(dataset=dem, shapes=coords, crop = True)\n",
    "                #average_bare_earth_elevation[tank_index] = np.average(out_img)\n",
    "                #average to reprojected raster\n",
    "                out_img_utm = reproject_raster_mask_to_utm(tank_poly, dem, out_img, out_transform)\n",
    "                average_bare_earth_elevation[tank_index] = np.average(out_img_utm)\n",
    "    #add inundation values to tank database \n",
    "    gdf[\"average_bare_earth_elevation\"] = average_bare_earth_elevation\n",
    "\n",
    "    return(gdf)"
   ]
  },
  {
   "cell_type": "markdown",
   "id": "91122405-3adc-46be-a7cd-de718fdd80f4",
   "metadata": {
    "tags": []
   },
   "source": [
    "# Read in tile data"
   ]
  },
  {
   "cell_type": "code",
   "execution_count": 7,
   "id": "530d3d2b-a55a-48f6-8a9f-5b2110446713",
   "metadata": {
    "tags": []
   },
   "outputs": [],
   "source": [
    "parent_directory = \"//oit-nas-fe13dc.oit.duke.edu//data_commons-borsuk\"\n",
    "tank_data = gpd.read_file(os.path.join(parent_directory,\"complete_dataset/tile_level_annotations/tile_level_annotations.geojson\"))\n",
    "tank_data = tank_data.to_crs('EPSG:4326')\n",
    "image_characteristics = pd.read_csv(\"C:/Users/rapiduser/cred/AST_dataset/data_download_and_preprocessing/image_characteristics.csv\")\n",
    "tile_characteristics = pd.read_csv(\"C:/Users/rapiduser/cred/AST_dataset/data_download_and_preprocessing/tile_characteristics.csv\")"
   ]
  },
  {
   "cell_type": "markdown",
   "id": "2f96a15c-0ab2-4fb7-9ca5-53e348b62b9c",
   "metadata": {
    "tags": []
   },
   "source": [
    "# Process lidar data "
   ]
  },
  {
   "cell_type": "markdown",
   "id": "cc9dee1e-354d-497d-9917-95f4d8256d6c",
   "metadata": {},
   "source": [
    "Note on reading in compressed data. \n",
    "A backend to decompress laz files is required. A backend can be install in the terminal as [`pip install laspy[lazrs,laszip]`](https://laspy.readthedocs.io/en/latest/installation.html).\n",
    "#https://stackoverflow.com/questions/71641718/what-is-the-laspy-error-when-reading-laz-files\n",
    "#https://laspy.readthedocs.io/en/latest/api/laspy.compression.html#laspy.compression.LazBackend #backend compression info"
   ]
  },
  {
   "cell_type": "markdown",
   "id": "677e0d49-f5f4-4be2-b6e6-b5131ec729cf",
   "metadata": {
    "tags": []
   },
   "source": [
    "###### Alternative methods for accessing Lidar data\n",
    "[PDAL](https://pdal.io/pipeline.html#pipelines)\n",
    "[Pylas](https://towardsdatascience.com/a-gis-pipeline-for-lidar-point-cloud-feature-extraction-8cd1c686468a)\n",
    "\n",
    "###### Lidar Coorinate System, WTK, References\n",
    "https://docs.geotools.org/stable/javadocs/org/opengis/referencing/doc-files/WKT.html\n",
    "https://www.earthdatascience.org/courses/use-data-open-source-python/intro-vector-data-python/spatial-data-vector-shapefiles/epsg-proj4-coordinate-reference-system-formats-python/\n",
    "\n",
    "###### Height Estimation\n",
    "https://github.com/Abuton/lidarDataExtractor/tree/main/notebook_walkthrough \n",
    "https://github.com/tahirdme/LIDAR-Height-Extractor/blob/master/Height%20Extractor%20Code.ipynb\n",
    "https://desktop.arcgis.com/en/arcmap/latest/extensions/3d-analyst/3d-buildings-obtaining-elevation-information-for-building-footprints.htm\n",
    "https://desktop.arcgis.com/en/arcmap/latest/manage-data/las-dataset/lidar-solutions-creating-raster-dems-and-dsms-from-large-lidar-point-collections.htm\n",
    "https://medium.com/one-concern/estimating-building-heights-using-lidar-data-b2f979266c3b\n",
    "https://hal.inria.fr/hal-01348265/document\n",
    "\n",
    "###### Visualization\n",
    "https://medium.com/spatial-data-science/an-easy-way-to-work-and-visualize-lidar-data-in-python-eed0e028996c\n",
    "\n",
    "###### Pull data from USGS\n",
    "https://apps.nationalmap.gov/tnmaccess/#/\n",
    "https://apps.nationalmap.gov/help/documents/TNMAccessAPIDocumentation/TNMAccessAPIDocumentation.pdf\n",
    "https://github.com/cheginit/py3dep"
   ]
  },
  {
   "cell_type": "code",
   "execution_count": 8,
   "id": "9781a014-1cd6-4913-8b54-8db80ff7c60c",
   "metadata": {},
   "outputs": [],
   "source": [
    "#1. Read in lidar data using laspy \n",
    "#lidar_dir = os.path.join(parent_directory, \"lidar\")\n",
    "#lidar_paths = glob(lidar_dir + \"/*.laz\")\n",
    "las = laspy.read(lidar_paths[0])\n",
    "las_crs = pyproj.CRS.from_user_input(las.header.vlrs.get(\"WktCoordinateSystemVlr\")[0].string) #get crs\n",
    "#list(las.header.point_format.dimension_names)\n",
    "#las.header.point_count\n",
    "#set(list(las.classification))"
   ]
  },
  {
   "cell_type": "code",
   "execution_count": 9,
   "id": "300dfef5-4ecf-4e48-89ab-58da182a62ed",
   "metadata": {},
   "outputs": [
    {
     "ename": "ValueError",
     "evalue": "Cannot transform naive geometries.  Please set a crs on the object first.",
     "output_type": "error",
     "traceback": [
      "\u001b[1;31m---------------------------------------------------------------------------\u001b[0m",
      "\u001b[1;31mValueError\u001b[0m                                Traceback (most recent call last)",
      "Input \u001b[1;32mIn [9]\u001b[0m, in \u001b[0;36m<cell line: 13>\u001b[1;34m()\u001b[0m\n\u001b[0;32m     11\u001b[0m \u001b[38;5;66;03m#Transform to geopandas GeoDataFrame\u001b[39;00m\n\u001b[0;32m     12\u001b[0m lidar \u001b[38;5;241m=\u001b[39m gpd\u001b[38;5;241m.\u001b[39mGeoDataFrame(lidar_df, geometry\u001b[38;5;241m=\u001b[39mGeometry_wgs84) \u001b[38;5;66;03m#set correct spatial reference\u001b[39;00m\n\u001b[1;32m---> 13\u001b[0m lidar \u001b[38;5;241m=\u001b[39m \u001b[43mlidar\u001b[49m\u001b[38;5;241;43m.\u001b[39;49m\u001b[43mto_crs\u001b[49m\u001b[43m(\u001b[49m\u001b[38;5;124;43m'\u001b[39;49m\u001b[38;5;124;43mEPSG:4326\u001b[39;49m\u001b[38;5;124;43m'\u001b[39;49m\u001b[43m)\u001b[49m\n\u001b[0;32m     14\u001b[0m \u001b[38;5;66;03m# Lidar extent\u001b[39;00m\n\u001b[0;32m     15\u001b[0m miny, minx, maxy, maxx \u001b[38;5;241m=\u001b[39m lidar[\u001b[38;5;124m\"\u001b[39m\u001b[38;5;124mgeometry\u001b[39m\u001b[38;5;124m\"\u001b[39m]\u001b[38;5;241m.\u001b[39mtotal_bounds\n",
      "File \u001b[1;32mC:\\ProgramData\\Anaconda3\\envs\\volume_estimation\\lib\\site-packages\\geopandas\\geodataframe.py:1275\u001b[0m, in \u001b[0;36mGeoDataFrame.to_crs\u001b[1;34m(self, crs, epsg, inplace)\u001b[0m\n\u001b[0;32m   1273\u001b[0m \u001b[38;5;28;01melse\u001b[39;00m:\n\u001b[0;32m   1274\u001b[0m     df \u001b[38;5;241m=\u001b[39m \u001b[38;5;28mself\u001b[39m\u001b[38;5;241m.\u001b[39mcopy()\n\u001b[1;32m-> 1275\u001b[0m geom \u001b[38;5;241m=\u001b[39m \u001b[43mdf\u001b[49m\u001b[38;5;241;43m.\u001b[39;49m\u001b[43mgeometry\u001b[49m\u001b[38;5;241;43m.\u001b[39;49m\u001b[43mto_crs\u001b[49m\u001b[43m(\u001b[49m\u001b[43mcrs\u001b[49m\u001b[38;5;241;43m=\u001b[39;49m\u001b[43mcrs\u001b[49m\u001b[43m,\u001b[49m\u001b[43m \u001b[49m\u001b[43mepsg\u001b[49m\u001b[38;5;241;43m=\u001b[39;49m\u001b[43mepsg\u001b[49m\u001b[43m)\u001b[49m\n\u001b[0;32m   1276\u001b[0m df\u001b[38;5;241m.\u001b[39mgeometry \u001b[38;5;241m=\u001b[39m geom\n\u001b[0;32m   1277\u001b[0m df\u001b[38;5;241m.\u001b[39mcrs \u001b[38;5;241m=\u001b[39m geom\u001b[38;5;241m.\u001b[39mcrs\n",
      "File \u001b[1;32mC:\\ProgramData\\Anaconda3\\envs\\volume_estimation\\lib\\site-packages\\geopandas\\geoseries.py:1120\u001b[0m, in \u001b[0;36mGeoSeries.to_crs\u001b[1;34m(self, crs, epsg)\u001b[0m\n\u001b[0;32m   1043\u001b[0m \u001b[38;5;28;01mdef\u001b[39;00m \u001b[38;5;21mto_crs\u001b[39m(\u001b[38;5;28mself\u001b[39m, crs\u001b[38;5;241m=\u001b[39m\u001b[38;5;28;01mNone\u001b[39;00m, epsg\u001b[38;5;241m=\u001b[39m\u001b[38;5;28;01mNone\u001b[39;00m):\n\u001b[0;32m   1044\u001b[0m     \u001b[38;5;124;03m\"\"\"Returns a ``GeoSeries`` with all geometries transformed to a new\u001b[39;00m\n\u001b[0;32m   1045\u001b[0m \u001b[38;5;124;03m    coordinate reference system.\u001b[39;00m\n\u001b[0;32m   1046\u001b[0m \n\u001b[1;32m   (...)\u001b[0m\n\u001b[0;32m   1117\u001b[0m \n\u001b[0;32m   1118\u001b[0m \u001b[38;5;124;03m    \"\"\"\u001b[39;00m\n\u001b[0;32m   1119\u001b[0m     \u001b[38;5;28;01mreturn\u001b[39;00m GeoSeries(\n\u001b[1;32m-> 1120\u001b[0m         \u001b[38;5;28;43mself\u001b[39;49m\u001b[38;5;241;43m.\u001b[39;49m\u001b[43mvalues\u001b[49m\u001b[38;5;241;43m.\u001b[39;49m\u001b[43mto_crs\u001b[49m\u001b[43m(\u001b[49m\u001b[43mcrs\u001b[49m\u001b[38;5;241;43m=\u001b[39;49m\u001b[43mcrs\u001b[49m\u001b[43m,\u001b[49m\u001b[43m \u001b[49m\u001b[43mepsg\u001b[49m\u001b[38;5;241;43m=\u001b[39;49m\u001b[43mepsg\u001b[49m\u001b[43m)\u001b[49m, index\u001b[38;5;241m=\u001b[39m\u001b[38;5;28mself\u001b[39m\u001b[38;5;241m.\u001b[39mindex, name\u001b[38;5;241m=\u001b[39m\u001b[38;5;28mself\u001b[39m\u001b[38;5;241m.\u001b[39mname\n\u001b[0;32m   1121\u001b[0m     )\n",
      "File \u001b[1;32mC:\\ProgramData\\Anaconda3\\envs\\volume_estimation\\lib\\site-packages\\geopandas\\array.py:763\u001b[0m, in \u001b[0;36mGeometryArray.to_crs\u001b[1;34m(self, crs, epsg)\u001b[0m\n\u001b[0;32m    695\u001b[0m \u001b[38;5;124;03m\"\"\"Returns a ``GeometryArray`` with all geometries transformed to a new\u001b[39;00m\n\u001b[0;32m    696\u001b[0m \u001b[38;5;124;03mcoordinate reference system.\u001b[39;00m\n\u001b[0;32m    697\u001b[0m \n\u001b[1;32m   (...)\u001b[0m\n\u001b[0;32m    760\u001b[0m \n\u001b[0;32m    761\u001b[0m \u001b[38;5;124;03m\"\"\"\u001b[39;00m\n\u001b[0;32m    762\u001b[0m \u001b[38;5;28;01mif\u001b[39;00m \u001b[38;5;28mself\u001b[39m\u001b[38;5;241m.\u001b[39mcrs \u001b[38;5;129;01mis\u001b[39;00m \u001b[38;5;28;01mNone\u001b[39;00m:\n\u001b[1;32m--> 763\u001b[0m     \u001b[38;5;28;01mraise\u001b[39;00m \u001b[38;5;167;01mValueError\u001b[39;00m(\n\u001b[0;32m    764\u001b[0m         \u001b[38;5;124m\"\u001b[39m\u001b[38;5;124mCannot transform naive geometries.  \u001b[39m\u001b[38;5;124m\"\u001b[39m\n\u001b[0;32m    765\u001b[0m         \u001b[38;5;124m\"\u001b[39m\u001b[38;5;124mPlease set a crs on the object first.\u001b[39m\u001b[38;5;124m\"\u001b[39m\n\u001b[0;32m    766\u001b[0m     )\n\u001b[0;32m    767\u001b[0m \u001b[38;5;28;01mif\u001b[39;00m crs \u001b[38;5;129;01mis\u001b[39;00m \u001b[38;5;129;01mnot\u001b[39;00m \u001b[38;5;28;01mNone\u001b[39;00m:\n\u001b[0;32m    768\u001b[0m     crs \u001b[38;5;241m=\u001b[39m CRS\u001b[38;5;241m.\u001b[39mfrom_user_input(crs)\n",
      "\u001b[1;31mValueError\u001b[0m: Cannot transform naive geometries.  Please set a crs on the object first."
     ]
    }
   ],
   "source": [
    "#1. Read in lidar data using laspy \n",
    "#lidar_dir = os.path.join(parent_directory, \"lidar\")\n",
    "#lidar_paths = glob(lidar_dir + \"/*.laz\")\n",
    "las = laspy.read(lidar_paths[0])\n",
    "las_crs = pyproj.CRS.from_user_input(las.header.vlrs.get(\"WktCoordinateSystemVlr\")[0].string) #get crs\n",
    "#list(las.header.point_format.dimension_names)\n",
    "#las.header.point_count\n",
    "#set(list(las.classification))\n",
    "#2. CONVERTING LAS TO PANDAS#\n",
    "#Import LAS into numpy array (X=raw integer value; x=scaled float value)\n",
    "lidar_points = np.array((las.x, las.y, las.z,las.intensity)).transpose()\n",
    "#Transform to pandas DataFrame\n",
    "lidar_df = pd.DataFrame(lidar_points, columns = ['X coordinate', 'Y coordinate', 'Z coordinate', 'Intensity'])\n",
    "# transform into the geographic coordinate system\n",
    "Geometry = [Point(xy) for xy in zip(las.x,las.y)] #make x+y coordinates into points\n",
    "EPSG4326 = pyproj.CRS('EPSG:4326')\n",
    "project = pyproj.Transformer.from_proj(las_crs, EPSG4326).transform\n",
    "Geometry_gcs = [transform(project, las_point) for las_point in Geometry]\n",
    "#Transform to geopandas GeoDataFrame\n",
    "lidar = gpd.GeoDataFrame(lidar_df, crs =EPSG4326, geometry=Geometry_gcs) #set correct spatial reference\n",
    "lidar = lidar.to_crs('EPSG:4326')\n",
    "#3. Get the extent of the Lidar data \n",
    "miny, minx, maxy, maxx = lidar[\"geometry\"].total_bounds\n",
    "lidar_extent = Polygon([(minx,miny), (minx,maxy), (maxx,maxy), (maxx,miny)])\n",
    "#4. Subset the tank dataset to the lidar data\n",
    "index = []\n",
    "for tank_index, tank_poly in tqdm.tqdm(enumerate(tank_data[\"geometry\"])): #iterate over the tank polygons\n",
    "    if lidar_extent.contains(tank_poly): #identify whether the tank bbox is inside of the state polygon\n",
    "        index.append(tank_index) #add state name for each tank to list \n",
    "tank_data_in_lidar_extent = tank_data.iloc[index]\n",
    "#Get the LP corresponding with the tank dataset\n",
    "tank_data_w_lpc = gpd.sjoin(tank_data_in_lidar_extent,lidar, how='left', predicate='contains')\n",
    "tank_data_w_lpc = tank_data_w_lpc.dropna(subset=['Z coordinate'])\n"
   ]
  },
  {
   "cell_type": "code",
   "execution_count": null,
   "id": "23a1ab77-d341-44d8-95fa-1000ac19d07e",
   "metadata": {},
   "outputs": [],
   "source": [
    "https://geopandas.org/en/stable/docs/reference/api/geopandas.sjoin.html\n",
    "https://geopandas.org/en/stable/gallery/spatial_joins.html"
   ]
  },
  {
   "cell_type": "markdown",
   "id": "bfd410f8-208d-42fc-a287-1c10fee1f4e2",
   "metadata": {
    "tags": []
   },
   "source": [
    "# Digital elevation model (DEM)\n"
   ]
  },
  {
   "cell_type": "markdown",
   "id": "8e94ea57-3417-4471-a926-930fa1dbd5f9",
   "metadata": {},
   "source": [
    "- produced through the 3D Elevation Program (3DEP)\n",
    "- The elevations in this DEM represent the topographic bare-earth surface. \n",
    "- USGS standard one-meter DEMs are produced exclusively from high resolution light detection and ranging (lidar) source data of one-meter or higher resolution. \n",
    "- One-meter DEM surfaces are seamless within collection projects, but, not necessarily seamless across projects. \n",
    "#### Spatial reference:\n",
    "- the spatial reference for one-meter DEM tiles within the conterminous United States (CONUS) is Universal Transverse Mercator (UTM) in units of meters, and in conformance with the North American Datum of 1983 (NAD83). \n",
    "- All bare earth elevation values are in meters and are referenced to the North American Vertical Datum of 1988 (NAVD88). \n",
    "- Each tile is distributed in the UTM Zone in which it lies. If a tile crosses two UTM zones, it is delivered in both zones. \n",
    "#### Resolution\n",
    "- The one-meter DEM is the highest resolution standard DEM offered in the 3DEP product suite. \n",
    "- Other 3DEP products are nationally seamless DEMs in resolutions of 1/3, 1, and 2 arc seconds. These seamless DEMs were referred to as the National Elevation Dataset (NED) from about 2000 through 2015 at which time they became the seamless DEM layers under the 3DEP program and lost the NED branding.\n",
    "\n",
    "[Overview of USGS elevation products](https://www.usgs.gov/3d-elevation-program/about-3dep-products-services)\n",
    "[Explanations of the differences between DEM, DTM, and DSM](https://up42.com/blog/tech/everything-you-need-to-know-about-digital-elevation-models-dem-digital#:~:text=DTMs%20are%20often%20confused%20with,development%20of%20the%20geodesic%20surface)\n",
    "https://www.usgs.gov/faqs/what-difference-between-lidar-data-and-digital-elevation-model-dem\n",
    "https://support.plexearth.com/hc/en-us/articles/4642425453201-Elevation-Modeling-the-differences-between-DTM-DSM-DEM#:~:text=The%20main%20difference%20between%20the,features%20on%20the%20earth's%20surface.s"
   ]
  },
  {
   "cell_type": "code",
   "execution_count": 59,
   "id": "d2ae942d-6c67-4e74-8c1b-b8b3c68724e2",
   "metadata": {},
   "outputs": [],
   "source": [
    "#outlier values within a bounding box"
   ]
  },
  {
   "cell_type": "code",
   "execution_count": 8,
   "id": "9239a1ed-ecba-4ce2-ae1c-6cd2907d5b96",
   "metadata": {},
   "outputs": [],
   "source": [
    "#reproject_dems(os.path.join(parent_directory, \"DEM/UTM\"), os.path.join(parent_directory, \"DEM/EPSG4326\"))\n",
    "dem_paths = glob(os.path.join(parent_directory, \"DEM/EPSG4326\")+ \"/*.tif\")"
   ]
  },
  {
   "cell_type": "code",
   "execution_count": 56,
   "id": "7902c1c0-dcd6-4101-9d16-a22302af67fc",
   "metadata": {},
   "outputs": [],
   "source": [
    "gdf = average_bare_earth_elevation_for_tanks(tank_data, dem_paths)"
   ]
  },
  {
   "cell_type": "code",
   "execution_count": 33,
   "id": "96fe30f3-e6db-484c-b935-395212f7afaa",
   "metadata": {},
   "outputs": [
    {
     "data": {
      "image/png": "[encoded data removed]",
      "text/plain": [
       "<Figure size 432x288 with 2 Axes>"
      ]
     },
     "metadata": {
      "needs_background": "light"
     },
     "output_type": "display_data"
    }
   ],
   "source": [
    "fig, (ax1,ax2) = plt.subplots(1,2)\n",
    "ax1.set_title('out_img')\n",
    "ax1.imshow(out_img[0])\n",
    "ax2.set_title('destination')\n",
    "ax2.imshow(destination)\n",
    "plt.show() "
   ]
  }
 ],
 "metadata": {
  "kernelspec": {
   "display_name": "volume_estimation",
   "language": "python",
   "name": "volume_estimation"
  },
  "language_info": {
   "codemirror_mode": {
    "name": "ipython",
    "version": 3
   },
   "file_extension": ".py",
   "mimetype": "text/x-python",
   "name": "python",
   "nbconvert_exporter": "python",
   "pygments_lexer": "ipython3",
   "version": "3.10.4"
  }
 },
 "nbformat": 4,
 "nbformat_minor": 5
}
