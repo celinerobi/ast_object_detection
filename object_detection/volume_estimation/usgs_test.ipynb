{
 "cells": [
  {
   "cell_type": "code",
   "execution_count": 11,
   "metadata": {
    "collapsed": true
   },
   "outputs": [],
   "source": [
    "import geopandas as gpd\n",
    "from shapely.ops import transform\n",
    "from shapely.geometry import Point, Polygon #convert las to gpd\n",
    "import rioxarray\n",
    "import rasterio\n",
    "from rasterio.warp import calculate_default_transform, reproject, Resampling\n",
    "import pyproj\n",
    "#import pygeos"
   ]
  },
  {
   "cell_type": "code",
   "execution_count": 23,
   "outputs": [],
   "source": [
    "import os\n",
    "import json\n",
    "import tempfile\n",
    "import shutil\n",
    "import re\n",
    "import copy\n",
    "from glob import glob\n",
    "\n",
    "import requests\n",
    "import volume_estimation_functions as vol_est\n"
   ],
   "metadata": {
    "collapsed": false
   }
  },
  {
   "cell_type": "code",
   "execution_count": 5,
   "outputs": [],
   "source": [
    "tank_data = gpd.read_file(\"//oit-nas-fe13dc.oit.duke.edu//data_commons-borsuk/complete_dataset_/\"\n",
    "                          \"tile_level_annotations/tile_level_annotations.geojson\")"
   ],
   "metadata": {
    "collapsed": false
   }
  },
  {
   "cell_type": "code",
   "execution_count": 45,
   "outputs": [],
   "source": [
    "tank_idx = 1\n",
    "row = tank_data.iloc[tank_idx]"
   ],
   "metadata": {
    "collapsed": false
   }
  },
  {
   "cell_type": "code",
   "execution_count": 46,
   "outputs": [],
   "source": [
    "tnm_names = []\n",
    "urls = []\n",
    "geometries = []\n",
    "tank_idxs = []\n",
    "\n",
    "minx = row['nw_corner_polygon_lon']\n",
    "miny = row['se_corner_polygon_lat']\n",
    "maxx = row['se_corner_polygon_lon']\n",
    "maxy = row['nw_corner_polygon_lat']\n",
    "tank_polygon = Polygon([(minx, miny), (minx, maxy), (maxx, maxy), (maxx, miny)])\n",
    "tank_bbox = [minx, miny, maxx, maxy]\n",
    "tank_bbox_str = \",\".join(map(str, tank_bbox)) # https://stackoverflow.com/questions/32313623/passing-comma-separated-values-in-request-get-python\n",
    "\n",
    "tnm_names_itr = copy.copy(tnm_names)\n",
    "urls_itr = copy.copy(urls)\n",
    "geometries_itr = copy.copy(geometries)"
   ],
   "metadata": {
    "collapsed": false
   }
  },
  {
   "cell_type": "code",
   "execution_count": 47,
   "outputs": [
    {
     "name": "stdout",
     "output_type": "stream",
     "text": [
      "{'total': 2, 'items': [{'title': 'USGS one meter x60y450 NY CMPG 2013', 'moreInfo': 'This is a tile of the standard one-meter resolution digital elevation model (DEM) produced through the 3D Elevation Program (3DEP). The elevations in this DEM represent the topographic bare-earth surface. USGS standard one-meter DEMs are produced exclusively from high resolution light detection and ranging (lidar) source data of one-meter or higher resolution. One-meter DEM surfaces are seamless within collection projects, but, not necessarily seamless across projects. The spatial reference used for tiles of the one-meter DEM within the conterminous United States (CONUS) is Universal Transverse Mercator (UTM) in units of meters, and in conformance with the North American Datum of 1983 (NAD83). All bare earth elevation values are in [...]', 'sourceId': '5eacfdfe82cefae35a25180c', 'sourceName': 'ScienceBase', 'sourceOriginId': None, 'sourceOriginName': 'gda', 'metaUrl': 'https://www.sciencebase.gov/catalog/item/5eacfdfe82cefae35a25180c', 'vendorMetaUrl': 'http://nationalmap.gov/3DEP/3dep_prodmetadata.html', 'publicationDate': '2020-03-30', 'lastUpdated': '2020-11-17T15:57:13.515-07:00', 'dateCreated': '2020-05-01T22:58:38.413-06:00', 'sizeInBytes': 99446948, 'extent': '10000 x 10000 meter', 'format': 'GeoTIFF', 'downloadURL': 'https://prd-tnm.s3.amazonaws.com/StagedProducts/Elevation/1m/Projects/NY_CMPG_2013/TIFF/USGS_one_meter_x60y450_NY_CMPG_2013.tif', 'downloadURLRaster': None, 'previewGraphicURL': 'https://prd-tnm.s3.amazonaws.com/StagedProducts/Elevation/1m/Projects/NY_CMPG_2013/browse/USGS_one_meter_x60y450_NY_CMPG_2013_thumb.jpg', 'downloadLazURL': None, 'urls': {'TIFF': 'https://prd-tnm.s3.amazonaws.com/StagedProducts/Elevation/1m/Projects/NY_CMPG_2013/TIFF/USGS_one_meter_x60y450_NY_CMPG_2013.tif'}, 'datasets': [], 'boundingBox': {'minX': -73.8189587001229, 'maxX': -73.6989860979818, 'minY': 40.5534076603248, 'maxY': 40.6448544184914}, 'bestFitIndex': 0.0, 'body': 'This is a tile of the standard one-meter resolution digital elevation model (DEM) produced through the 3D Elevation Program (3DEP). The elevations in this DEM represent the topographic bare-earth surface. USGS standard one-meter DEMs are produced exclusively from high resolution light detection and ranging (lidar) source data of one-meter or higher resolution. One-meter DEM surfaces are seamless within collection projects, but, not necessarily seamless across projects. The spatial reference used for tiles of the one-meter DEM within the conterminous United States (CONUS) is Universal Transverse Mercator (UTM) in units of meters, and in conformance with the North American Datum of 1983 (NAD83). All bare earth elevation values are in meters and are referenced to the North American Vertical Datum of 1988 (NAVD88). Each tile is distributed in the UTM Zone in which it lies. If a tile crosses two UTM zones, it is delivered in both zones. The one-meter DEM is the highest resolution standard DEM offered in the 3DEP product suite. Other 3DEP products are nationally seamless DEMs in resolutions of 1/3, 1, and 2 arc seconds. These seamless DEMs were referred to as the National Elevation Dataset (NED) from about 2000 through 2015 at which time they became the seamless DEM layers under the 3DEP program and lost the NED branding. Other 3DEP products include five-meter DEMs in Alaska as well as various source datasets including the lidar point cloud and interferometric synthetic aperture radar (Ifsar) digital surface models and intensity images. All 3DEP products are public domain.', 'processingUrl': 'processingUrl', 'modificationInfo': '2020-11-17'}, {'title': 'USGS one meter x60y450 NY LongIsland-Z18 2014', 'moreInfo': 'This is a tile of the standard one-meter resolution digital elevation model (DEM) produced through the 3D Elevation Program (3DEP). The elevations in this DEM represent the topographic bare-earth surface. USGS standard one-meter DEMs are produced exclusively from high resolution light detection and ranging (lidar) source data of one-meter or higher resolution. One-meter DEM surfaces are seamless within collection projects, but, not necessarily seamless across projects. The spatial reference used for tiles of the one-meter DEM within the conterminous United States (CONUS) is Universal Transverse Mercator (UTM) in units of meters, and in conformance with the North American Datum of 1983 (NAD83). All bare earth elevation values are in [...]', 'sourceId': '5eacfdfe82cefae35a25180e', 'sourceName': 'ScienceBase', 'sourceOriginId': None, 'sourceOriginName': 'gda', 'metaUrl': 'https://www.sciencebase.gov/catalog/item/5eacfdfe82cefae35a25180e', 'vendorMetaUrl': 'http://nationalmap.gov/3DEP/3dep_prodmetadata.html', 'publicationDate': '2020-03-30', 'lastUpdated': '2020-11-17T16:07:25.695-07:00', 'dateCreated': '2020-05-01T22:58:38.502-06:00', 'sizeInBytes': 146024694, 'extent': '10000 x 10000 meter', 'format': 'GeoTIFF', 'downloadURL': 'https://prd-tnm.s3.amazonaws.com/StagedProducts/Elevation/1m/Projects/NY_LongIsland_Z18_2014/TIFF/USGS_one_meter_x60y450_NY_LongIsland_Z18_2014.tif', 'downloadURLRaster': None, 'previewGraphicURL': 'https://prd-tnm.s3.amazonaws.com/StagedProducts/Elevation/1m/Projects/NY_LongIsland_Z18_2014/browse/USGS_one_meter_x60y450_NY_LongIsland_Z18_2014_thumb.jpg', 'downloadLazURL': None, 'urls': {'TIFF': 'https://prd-tnm.s3.amazonaws.com/StagedProducts/Elevation/1m/Projects/NY_LongIsland_Z18_2014/TIFF/USGS_one_meter_x60y450_NY_LongIsland_Z18_2014.tif'}, 'datasets': [], 'boundingBox': {'minX': -73.8189587001229, 'maxX': -73.6989860979818, 'minY': 40.5534076603248, 'maxY': 40.6448544184914}, 'bestFitIndex': 0.0, 'body': 'This is a tile of the standard one-meter resolution digital elevation model (DEM) produced through the 3D Elevation Program (3DEP). The elevations in this DEM represent the topographic bare-earth surface. USGS standard one-meter DEMs are produced exclusively from high resolution light detection and ranging (lidar) source data of one-meter or higher resolution. One-meter DEM surfaces are seamless within collection projects, but, not necessarily seamless across projects. The spatial reference used for tiles of the one-meter DEM within the conterminous United States (CONUS) is Universal Transverse Mercator (UTM) in units of meters, and in conformance with the North American Datum of 1983 (NAD83). All bare earth elevation values are in meters and are referenced to the North American Vertical Datum of 1988 (NAVD88). Each tile is distributed in the UTM Zone in which it lies. If a tile crosses two UTM zones, it is delivered in both zones. The one-meter DEM is the highest resolution standard DEM offered in the 3DEP product suite. Other 3DEP products are nationally seamless DEMs in resolutions of 1/3, 1, and 2 arc seconds. These seamless DEMs were referred to as the National Elevation Dataset (NED) from about 2000 through 2015 at which time they became the seamless DEM layers under the 3DEP program and lost the NED branding. Other 3DEP products include five-meter DEMs in Alaska as well as various source datasets including the lidar point cloud and interferometric synthetic aperture radar (Ifsar) digital surface models and intensity images. All 3DEP products are public domain.', 'processingUrl': 'processingUrl', 'modificationInfo': '2020-11-17'}], 'errors': [], 'messages': ['Retrieved 2 item(s) Retrieved (1 through 50)'], 'sciencebaseQuery': 'https://www.sciencebase.gov/catalog/items?filter=tagslq%3Dtags.scheme%3A%22The+National+Map+Collection+Thesaurus%22+AND+%28tags.name%3A+%22Digital+Elevation+Model+%28DEM%29+1+meter%22%29&filter=spatialQuery%3D%7B%22wkt%22%3A%22POLYGON%28%28-73.74465241012547+40.624669282557306%2C-73.74418764867477+40.624669282557306%2C-73.74418764867477+40.6248527041968%2C-73.74465241012547+40.6248527041968%2C-73.74465241012547+40.624669282557306%29%29%22%2C%22relation%22%3A%22intersects%22%7D&max=50&offset=0&fields=id%2Ctitle%2Csummary%2Cbody%2Ctags%2CwebLinks%2Cdates%2Cspatial%2Cidentifiers&format=json&sort=title&order=asc', 'filteredOut': 0}\n",
      "2\n",
      "True\n"
     ]
    },
    {
     "ename": "NameError",
     "evalue": "name 'pd' is not defined",
     "output_type": "error",
     "traceback": [
      "\u001B[1;31m---------------------------------------------------------------------------\u001B[0m",
      "\u001B[1;31mNameError\u001B[0m                                 Traceback (most recent call last)",
      "Cell \u001B[1;32mIn [47], line 29\u001B[0m\n\u001B[0;32m     26\u001B[0m             tnm_names, urls, geometries \u001B[38;5;241m=\u001B[39m vol_est\u001B[38;5;241m.\u001B[39mget_dataset_of_interest(contents_df, tnm_names, urls, geometries)\n\u001B[0;32m     27\u001B[0m             tank_idxs\u001B[38;5;241m.\u001B[39mappend(tank_idx)\n\u001B[1;32m---> 29\u001B[0m complete_df \u001B[38;5;241m=\u001B[39m \u001B[43mpd\u001B[49m\u001B[38;5;241m.\u001B[39mDataFrame(\u001B[38;5;28mlist\u001B[39m(\u001B[38;5;28mzip\u001B[39m(tank_idxs, tnm_names, urls, geometries)),\n\u001B[0;32m     30\u001B[0m                        index\u001B[38;5;241m=\u001B[39mtank_idxs, columns\u001B[38;5;241m=\u001B[39m[\u001B[38;5;124m'\u001B[39m\u001B[38;5;124mtank_idxs\u001B[39m\u001B[38;5;124m'\u001B[39m, \u001B[38;5;124m'\u001B[39m\u001B[38;5;124musgs_tnm_names\u001B[39m\u001B[38;5;124m'\u001B[39m, \u001B[38;5;124m'\u001B[39m\u001B[38;5;124murls\u001B[39m\u001B[38;5;124m'\u001B[39m, \u001B[38;5;124m'\u001B[39m\u001B[38;5;124mgeometry\u001B[39m\u001B[38;5;124m'\u001B[39m])\n",
      "\u001B[1;31mNameError\u001B[0m: name 'pd' is not defined"
     ]
    }
   ],
   "source": [
    "dataset_name=\"Digital Elevation Model (DEM) 1 meter\"\n",
    "timeout=120\n",
    "request_total_idx='total'\n",
    "request_content_idx='items'\n",
    "request_content_names_idx='title'\n",
    "tnm_url=\"https://tnmaccess.nationalmap.gov/api/v1/products\"\n",
    "#check if tank polygon is inside of a previously identified dataset\n",
    "## https://stackoverflow.com/questions/4406389/if-else-in-a-list-comprehension\n",
    "matching_poly=[(tnm_name, url, tnm_poly) for tnm_name, url, tnm_poly in zip(tnm_names_itr, urls_itr, geometries_itr) if tnm_poly.contains(tank_polygon)]\n",
    "if len(matching_poly) > 0: #if it is inside of another dataset, add to the lists tracking names, urls, geoms, idx\n",
    "    tnm_name, url, tnm_poly = matching_poly[0]\n",
    "    tnm_names.append(tnm_name)\n",
    "    urls.append(url)\n",
    "    geometries.append(tnm_poly)\n",
    "    tank_idxs.append(tank_idx)\n",
    "else:\n",
    "    payload = {'bbox': tank_bbox_str, \"datasets\": dataset_name}\n",
    "    bool_request, contents_json = vol_est.submit_http_api_request(payload, tnm_url,timeout)\n",
    "    print(contents_json)\n",
    "    if bool_request: #if the request was successful\n",
    "        print(len(contents_json[request_content_idx]))\n",
    "        bool_entries = vol_est.verify_entries_exist(contents_json, request_total_idx)\n",
    "        print(bool_entries)\n",
    "        if bool_entries: #if the request provided enteries\n",
    "            contents_df = vol_est.json_to_dict(contents_json, request_content_idx, request_content_names_idx)\n",
    "            tnm_names, urls, geometries = vol_est.get_dataset_of_interest(contents_df, tnm_names, urls, geometries)\n",
    "            tank_idxs.append(tank_idx)\n",
    "\n",
    "complete_df = pd.DataFrame(list(zip(tank_idxs, tnm_names, urls, geometries)),\n",
    "                       index=tank_idxs, columns=['tank_idxs', 'usgs_tnm_names', 'urls', 'geometry'])\n"
   ],
   "metadata": {
    "collapsed": false
   }
  },
  {
   "cell_type": "code",
   "execution_count": 48,
   "outputs": [
    {
     "data": {
      "text/plain": "{'total': 2,\n 'items': [{'title': 'USGS one meter x60y450 NY CMPG 2013',\n   'moreInfo': 'This is a tile of the standard one-meter resolution digital elevation model (DEM) produced through the 3D Elevation Program (3DEP). The elevations in this DEM represent the topographic bare-earth surface. USGS standard one-meter DEMs are produced exclusively from high resolution light detection and ranging (lidar) source data of one-meter or higher resolution. One-meter DEM surfaces are seamless within collection projects, but, not necessarily seamless across projects. The spatial reference used for tiles of the one-meter DEM within the conterminous United States (CONUS) is Universal Transverse Mercator (UTM) in units of meters, and in conformance with the North American Datum of 1983 (NAD83). All bare earth elevation values are in [...]',\n   'sourceId': '5eacfdfe82cefae35a25180c',\n   'sourceName': 'ScienceBase',\n   'sourceOriginId': None,\n   'sourceOriginName': 'gda',\n   'metaUrl': 'https://www.sciencebase.gov/catalog/item/5eacfdfe82cefae35a25180c',\n   'vendorMetaUrl': 'http://nationalmap.gov/3DEP/3dep_prodmetadata.html',\n   'publicationDate': '2020-03-30',\n   'lastUpdated': '2020-11-17T15:57:13.515-07:00',\n   'dateCreated': '2020-05-01T22:58:38.413-06:00',\n   'sizeInBytes': 99446948,\n   'extent': '10000 x 10000 meter',\n   'format': 'GeoTIFF',\n   'downloadURL': 'https://prd-tnm.s3.amazonaws.com/StagedProducts/Elevation/1m/Projects/NY_CMPG_2013/TIFF/USGS_one_meter_x60y450_NY_CMPG_2013.tif',\n   'downloadURLRaster': None,\n   'previewGraphicURL': 'https://prd-tnm.s3.amazonaws.com/StagedProducts/Elevation/1m/Projects/NY_CMPG_2013/browse/USGS_one_meter_x60y450_NY_CMPG_2013_thumb.jpg',\n   'downloadLazURL': None,\n   'urls': {'TIFF': 'https://prd-tnm.s3.amazonaws.com/StagedProducts/Elevation/1m/Projects/NY_CMPG_2013/TIFF/USGS_one_meter_x60y450_NY_CMPG_2013.tif'},\n   'datasets': [],\n   'boundingBox': {'minX': -73.8189587001229,\n    'maxX': -73.6989860979818,\n    'minY': 40.5534076603248,\n    'maxY': 40.6448544184914},\n   'bestFitIndex': 0.0,\n   'body': 'This is a tile of the standard one-meter resolution digital elevation model (DEM) produced through the 3D Elevation Program (3DEP). The elevations in this DEM represent the topographic bare-earth surface. USGS standard one-meter DEMs are produced exclusively from high resolution light detection and ranging (lidar) source data of one-meter or higher resolution. One-meter DEM surfaces are seamless within collection projects, but, not necessarily seamless across projects. The spatial reference used for tiles of the one-meter DEM within the conterminous United States (CONUS) is Universal Transverse Mercator (UTM) in units of meters, and in conformance with the North American Datum of 1983 (NAD83). All bare earth elevation values are in meters and are referenced to the North American Vertical Datum of 1988 (NAVD88). Each tile is distributed in the UTM Zone in which it lies. If a tile crosses two UTM zones, it is delivered in both zones. The one-meter DEM is the highest resolution standard DEM offered in the 3DEP product suite. Other 3DEP products are nationally seamless DEMs in resolutions of 1/3, 1, and 2 arc seconds. These seamless DEMs were referred to as the National Elevation Dataset (NED) from about 2000 through 2015 at which time they became the seamless DEM layers under the 3DEP program and lost the NED branding. Other 3DEP products include five-meter DEMs in Alaska as well as various source datasets including the lidar point cloud and interferometric synthetic aperture radar (Ifsar) digital surface models and intensity images. All 3DEP products are public domain.',\n   'processingUrl': 'processingUrl',\n   'modificationInfo': '2020-11-17'},\n  {'title': 'USGS one meter x60y450 NY LongIsland-Z18 2014',\n   'moreInfo': 'This is a tile of the standard one-meter resolution digital elevation model (DEM) produced through the 3D Elevation Program (3DEP). The elevations in this DEM represent the topographic bare-earth surface. USGS standard one-meter DEMs are produced exclusively from high resolution light detection and ranging (lidar) source data of one-meter or higher resolution. One-meter DEM surfaces are seamless within collection projects, but, not necessarily seamless across projects. The spatial reference used for tiles of the one-meter DEM within the conterminous United States (CONUS) is Universal Transverse Mercator (UTM) in units of meters, and in conformance with the North American Datum of 1983 (NAD83). All bare earth elevation values are in [...]',\n   'sourceId': '5eacfdfe82cefae35a25180e',\n   'sourceName': 'ScienceBase',\n   'sourceOriginId': None,\n   'sourceOriginName': 'gda',\n   'metaUrl': 'https://www.sciencebase.gov/catalog/item/5eacfdfe82cefae35a25180e',\n   'vendorMetaUrl': 'http://nationalmap.gov/3DEP/3dep_prodmetadata.html',\n   'publicationDate': '2020-03-30',\n   'lastUpdated': '2020-11-17T16:07:25.695-07:00',\n   'dateCreated': '2020-05-01T22:58:38.502-06:00',\n   'sizeInBytes': 146024694,\n   'extent': '10000 x 10000 meter',\n   'format': 'GeoTIFF',\n   'downloadURL': 'https://prd-tnm.s3.amazonaws.com/StagedProducts/Elevation/1m/Projects/NY_LongIsland_Z18_2014/TIFF/USGS_one_meter_x60y450_NY_LongIsland_Z18_2014.tif',\n   'downloadURLRaster': None,\n   'previewGraphicURL': 'https://prd-tnm.s3.amazonaws.com/StagedProducts/Elevation/1m/Projects/NY_LongIsland_Z18_2014/browse/USGS_one_meter_x60y450_NY_LongIsland_Z18_2014_thumb.jpg',\n   'downloadLazURL': None,\n   'urls': {'TIFF': 'https://prd-tnm.s3.amazonaws.com/StagedProducts/Elevation/1m/Projects/NY_LongIsland_Z18_2014/TIFF/USGS_one_meter_x60y450_NY_LongIsland_Z18_2014.tif'},\n   'datasets': [],\n   'boundingBox': {'minX': -73.8189587001229,\n    'maxX': -73.6989860979818,\n    'minY': 40.5534076603248,\n    'maxY': 40.6448544184914},\n   'bestFitIndex': 0.0,\n   'body': 'This is a tile of the standard one-meter resolution digital elevation model (DEM) produced through the 3D Elevation Program (3DEP). The elevations in this DEM represent the topographic bare-earth surface. USGS standard one-meter DEMs are produced exclusively from high resolution light detection and ranging (lidar) source data of one-meter or higher resolution. One-meter DEM surfaces are seamless within collection projects, but, not necessarily seamless across projects. The spatial reference used for tiles of the one-meter DEM within the conterminous United States (CONUS) is Universal Transverse Mercator (UTM) in units of meters, and in conformance with the North American Datum of 1983 (NAD83). All bare earth elevation values are in meters and are referenced to the North American Vertical Datum of 1988 (NAVD88). Each tile is distributed in the UTM Zone in which it lies. If a tile crosses two UTM zones, it is delivered in both zones. The one-meter DEM is the highest resolution standard DEM offered in the 3DEP product suite. Other 3DEP products are nationally seamless DEMs in resolutions of 1/3, 1, and 2 arc seconds. These seamless DEMs were referred to as the National Elevation Dataset (NED) from about 2000 through 2015 at which time they became the seamless DEM layers under the 3DEP program and lost the NED branding. Other 3DEP products include five-meter DEMs in Alaska as well as various source datasets including the lidar point cloud and interferometric synthetic aperture radar (Ifsar) digital surface models and intensity images. All 3DEP products are public domain.',\n   'processingUrl': 'processingUrl',\n   'modificationInfo': '2020-11-17'}],\n 'errors': [],\n 'messages': ['Retrieved 2 item(s) Retrieved (1 through 50)'],\n 'sciencebaseQuery': 'https://www.sciencebase.gov/catalog/items?filter=tagslq%3Dtags.scheme%3A%22The+National+Map+Collection+Thesaurus%22+AND+%28tags.name%3A+%22Digital+Elevation+Model+%28DEM%29+1+meter%22%29&filter=spatialQuery%3D%7B%22wkt%22%3A%22POLYGON%28%28-73.74465241012547+40.624669282557306%2C-73.74418764867477+40.624669282557306%2C-73.74418764867477+40.6248527041968%2C-73.74465241012547+40.6248527041968%2C-73.74465241012547+40.624669282557306%29%29%22%2C%22relation%22%3A%22intersects%22%7D&max=50&offset=0&fields=id%2Ctitle%2Csummary%2Cbody%2Ctags%2CwebLinks%2Cdates%2Cspatial%2Cidentifiers&format=json&sort=title&order=asc',\n 'filteredOut': 0}"
     },
     "execution_count": 48,
     "metadata": {},
     "output_type": "execute_result"
    }
   ],
   "source": [
    "contents_json"
   ],
   "metadata": {
    "collapsed": false
   }
  }
 ],
 "metadata": {
  "kernelspec": {
   "display_name": "Python 3",
   "language": "python",
   "name": "python3"
  },
  "language_info": {
   "codemirror_mode": {
    "name": "ipython",
    "version": 2
   },
   "file_extension": ".py",
   "mimetype": "text/x-python",
   "name": "python",
   "nbconvert_exporter": "python",
   "pygments_lexer": "ipython2",
   "version": "2.7.6"
  }
 },
 "nbformat": 4,
 "nbformat_minor": 0
}
