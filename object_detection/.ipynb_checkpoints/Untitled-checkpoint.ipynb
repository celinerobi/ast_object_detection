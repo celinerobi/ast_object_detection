{
 "cells": [
  {
   "cell_type": "code",
   "execution_count": 1,
   "id": "33878063-16b3-4aec-bad8-8c1945ae9174",
   "metadata": {},
   "outputs": [
    {
     "name": "stderr",
     "output_type": "stream",
     "text": [
      "C:\\Users\\rapiduser\\AppData\\Local\\Programs\\Python\\Python310\\lib\\site-packages\\tqdm\\auto.py:22: TqdmWarning: IProgress not found. Please update jupyter and ipywidgets. See https://ipywidgets.readthedocs.io/en/stable/user_install.html\n",
      "  from .autonotebook import tqdm as notebook_tqdm\n"
     ]
    }
   ],
   "source": [
    "import os\n",
    "import glob\n",
    "import os\n",
    "import pickle\n",
    "import xml.etree.ElementTree as ET\n",
    "from os.path import join\n",
    "import math\n",
    "import random\n",
    "import shutil\n",
    "import json\n",
    "import convert_voc_to_yolo\n",
    "#import tensorflow as tf\n",
    "#from tensorflow import keras\n",
    "\n",
    "#print(tf.version.VERSION)\n",
    "import dataset"
   ]
  },
  {
   "cell_type": "markdown",
   "id": "8b00f79e-10c6-41ea-9137-c1f8dbe4e738",
   "metadata": {},
   "source": [
    "├── yolov7\n",
    " ## └── train\n",
    " ####└── images (folder including all training images)\n",
    " ####└── labels (folder including all training labels)\n",
    " ## └── test\n",
    " ####└── images (folder including all testing images)\n",
    " ####└── labels (folder including all testing labels)"
   ]
  },
  {
   "cell_type": "code",
   "execution_count": 2,
   "id": "cd729c12-99e2-4f05-92fb-439eb3d84d24",
   "metadata": {},
   "outputs": [],
   "source": [
    "dir_path = os.path.join(\"//oit-nas-fe13dc.oit.duke.edu//data_commons-borsuk//complete_dataset_/chips_positive\")\n",
    "save_dir = os.path.join(\"//oit-nas-fe13dc.oit.duke.edu//data_commons-borsuk//save_dir\")\n",
    "voc_data_folder = os.path.join(\"//oit-nas-fe13dc.oit.duke.edu//data_commons-borsuk//voc_data_folder\")\n",
    "path_to_predefined_classes = \"C:/Users/rapiduser/AST_dataset/data_download_and_preprocessing/predefined_classes_corrected.txt\"\n",
    "os.makedirs(voc_data_folder, exist_ok=True)"
   ]
  },
  {
   "cell_type": "code",
   "execution_count": 10,
   "id": "da1ec3aa-723d-4f36-9f70-9721baa770e3",
   "metadata": {},
   "outputs": [],
   "source": [
    "python convert_voc_to_yolo.py --dir_path \"//oit-nas-fe13dc.oit.duke.edu//data_commons-borsuk//complete_dataset_/chips_positive\" --save_dir \"//oit-nas-fe13dc.oit.duke.edu//data_commons-borsuk//save_dir\" --voc_data_folder \"//oit-nas-fe13dc.oit.duke.edu//data_commons-borsuk//voc_data_folder\" --path_to_predefined_classes \"C:/Users/rapiduser/AST_dataset/data_download_and_preprocessing/predefined_classes_corrected.txt\" --coco_data_folder \"//oit-nas-fe13dc.oit.duke.edu//data_commons-borsuk//coco_data_folder\""
   ]
  },
  {
   "cell_type": "code",
   "execution_count": null,
   "id": "c40bde3f-961b-4850-a565-f402d3af897f",
   "metadata": {},
   "outputs": [],
   "source": [
    "python train.py --weights yolov7.pt --data \"data/ast_dataset.yaml\" --workers 4 --batch-size 4 --img 512 --cfg cfg/training/yolov7.yaml --name yolov7 --hyp data/hyp.scratch.p5.yaml"
   ]
  },
  {
   "cell_type": "code",
   "execution_count": 3,
   "id": "a5d451ef-d13c-4b9a-8381-cb2514f996a7",
   "metadata": {},
   "outputs": [],
   "source": [
    "img_paths, img_ids = convert_voc_to_yolo.get_image_paths_in_dir(dir_path, save_dir)\n",
    "#convert_voc_to_yolo.split_train_val_test(img_paths, 1, voc_data_folder, save_dir, train_percent = 0.8, val_percent = 0.1)\n",
    "label_map = dataset.get_label_map(save_dir, path_to_predefined_classes)\n",
    "#for img_path in img_paths:\n",
    "   # convert_voc_to_yolo.convert_annotation(img_path, voc_data_dir, coco_data_dir, classes)"
   ]
  },
  {
   "cell_type": "code",
   "execution_count": 23,
   "id": "8e2ec883-d6f5-4a85-9984-22e97a3d8e21",
   "metadata": {},
   "outputs": [
    {
     "data": {
      "text/plain": [
       "['sedimentation_tank',\n",
       " 'water_tower',\n",
       " 'spherical_tank',\n",
       " 'closed_roof_tank',\n",
       " 'external_floating_roof_tank',\n",
       " 'narrow_closed_roof_tank',\n",
       " 'undefined_object',\n",
       " 'background']"
      ]
     },
     "execution_count": 23,
     "metadata": {},
     "output_type": "execute_result"
    }
   ],
   "source": [
    "img_paths, img_ids = get_image_paths_in_dir(args.dir_path, args.save_dir)\n",
    "#split_train_val_test(img_paths, 1, args.voc_data_folder, args.save_dir, train_percent = 0.8, val_percent = 0.1)\n",
    "label_map = dataset.get_label_map(args.save_dir, args.path_to_predefined_classes)\n",
    "for img_path in img_paths:\n",
    "    convert_voc_to_yolo.convert_annotation(img_path, args.voc_data_folder, args.coco_data_folder, label_map)"
   ]
  },
  {
   "cell_type": "code",
   "execution_count": null,
   "id": "415b1c1d-e43c-4e42-8572-11bddabda06c",
   "metadata": {},
   "outputs": [],
   "source": [
    "training_percentage = 0.8\n",
    "classes = ['Arduino_Nano', 'Heltec_ESP32_Lora', 'ESP8266', 'Raspberry_Pi_3']\n",
    "\n"
   ]
  },
  {
   "cell_type": "code",
   "execution_count": 10,
   "id": "1dfa496a-1637-4559-a21f-0e7b20272751",
   "metadata": {},
   "outputs": [
    {
     "ename": "FileNotFoundError",
     "evalue": "[Errno 2] No such file or directory: '//oit-nas-fe13dc.oit.duke.edu//data_commons-borsuk//voc_data_folder\\\\train\\\\images\\\\m_3809023_se_15_060_20190923_17_03.jpg'",
     "output_type": "error",
     "traceback": [
      "\u001b[1;31m---------------------------------------------------------------------------\u001b[0m",
      "\u001b[1;31mFileNotFoundError\u001b[0m                         Traceback (most recent call last)",
      "Input \u001b[1;32mIn [10]\u001b[0m, in \u001b[0;36m<cell line: 1>\u001b[1;34m()\u001b[0m\n\u001b[0;32m      1\u001b[0m \u001b[38;5;28;01mfor\u001b[39;00m i, (img_path, img_id) \u001b[38;5;129;01min\u001b[39;00m \u001b[38;5;28menumerate\u001b[39m(\u001b[38;5;28mzip\u001b[39m(train_img_paths, train_img_ids)):\n\u001b[1;32m----> 3\u001b[0m     \u001b[43mshutil\u001b[49m\u001b[38;5;241;43m.\u001b[39;49m\u001b[43mcopy\u001b[49m\u001b[43m(\u001b[49m\u001b[43mimg_path\u001b[49m\u001b[43m,\u001b[49m\u001b[43m \u001b[49m\u001b[43mos\u001b[49m\u001b[38;5;241;43m.\u001b[39;49m\u001b[43mpath\u001b[49m\u001b[38;5;241;43m.\u001b[39;49m\u001b[43mjoin\u001b[49m\u001b[43m(\u001b[49m\u001b[43mvoc_data_folder\u001b[49m\u001b[43m,\u001b[49m\u001b[43m \u001b[49m\u001b[38;5;124;43m\"\u001b[39;49m\u001b[38;5;124;43mtrain\u001b[39;49m\u001b[38;5;124;43m\"\u001b[39;49m\u001b[43m,\u001b[49m\u001b[43m \u001b[49m\u001b[38;5;124;43m\"\u001b[39;49m\u001b[38;5;124;43mimages\u001b[39;49m\u001b[38;5;124;43m\"\u001b[39;49m\u001b[43m,\u001b[49m\u001b[43m \u001b[49m\u001b[43mimg_id\u001b[49m\u001b[38;5;241;43m+\u001b[39;49m\u001b[38;5;124;43m\"\u001b[39;49m\u001b[38;5;124;43m.jpg\u001b[39;49m\u001b[38;5;124;43m\"\u001b[39;49m\u001b[43m)\u001b[49m\u001b[43m)\u001b[49m\n",
      "File \u001b[1;32mC:\\ProgramData\\Anaconda3\\lib\\shutil.py:418\u001b[0m, in \u001b[0;36mcopy\u001b[1;34m(src, dst, follow_symlinks)\u001b[0m\n\u001b[0;32m    416\u001b[0m \u001b[38;5;28;01mif\u001b[39;00m os\u001b[38;5;241m.\u001b[39mpath\u001b[38;5;241m.\u001b[39misdir(dst):\n\u001b[0;32m    417\u001b[0m     dst \u001b[38;5;241m=\u001b[39m os\u001b[38;5;241m.\u001b[39mpath\u001b[38;5;241m.\u001b[39mjoin(dst, os\u001b[38;5;241m.\u001b[39mpath\u001b[38;5;241m.\u001b[39mbasename(src))\n\u001b[1;32m--> 418\u001b[0m \u001b[43mcopyfile\u001b[49m\u001b[43m(\u001b[49m\u001b[43msrc\u001b[49m\u001b[43m,\u001b[49m\u001b[43m \u001b[49m\u001b[43mdst\u001b[49m\u001b[43m,\u001b[49m\u001b[43m \u001b[49m\u001b[43mfollow_symlinks\u001b[49m\u001b[38;5;241;43m=\u001b[39;49m\u001b[43mfollow_symlinks\u001b[49m\u001b[43m)\u001b[49m\n\u001b[0;32m    419\u001b[0m copymode(src, dst, follow_symlinks\u001b[38;5;241m=\u001b[39mfollow_symlinks)\n\u001b[0;32m    420\u001b[0m \u001b[38;5;28;01mreturn\u001b[39;00m dst\n",
      "File \u001b[1;32mC:\\ProgramData\\Anaconda3\\lib\\shutil.py:264\u001b[0m, in \u001b[0;36mcopyfile\u001b[1;34m(src, dst, follow_symlinks)\u001b[0m\n\u001b[0;32m    262\u001b[0m     os\u001b[38;5;241m.\u001b[39msymlink(os\u001b[38;5;241m.\u001b[39mreadlink(src), dst)\n\u001b[0;32m    263\u001b[0m \u001b[38;5;28;01melse\u001b[39;00m:\n\u001b[1;32m--> 264\u001b[0m     \u001b[38;5;28;01mwith\u001b[39;00m \u001b[38;5;28mopen\u001b[39m(src, \u001b[38;5;124m'\u001b[39m\u001b[38;5;124mrb\u001b[39m\u001b[38;5;124m'\u001b[39m) \u001b[38;5;28;01mas\u001b[39;00m fsrc, \u001b[38;5;28;43mopen\u001b[39;49m\u001b[43m(\u001b[49m\u001b[43mdst\u001b[49m\u001b[43m,\u001b[49m\u001b[43m \u001b[49m\u001b[38;5;124;43m'\u001b[39;49m\u001b[38;5;124;43mwb\u001b[39;49m\u001b[38;5;124;43m'\u001b[39;49m\u001b[43m)\u001b[49m \u001b[38;5;28;01mas\u001b[39;00m fdst:\n\u001b[0;32m    265\u001b[0m         \u001b[38;5;66;03m# macOS\u001b[39;00m\n\u001b[0;32m    266\u001b[0m         \u001b[38;5;28;01mif\u001b[39;00m _HAS_FCOPYFILE:\n\u001b[0;32m    267\u001b[0m             \u001b[38;5;28;01mtry\u001b[39;00m:\n",
      "\u001b[1;31mFileNotFoundError\u001b[0m: [Errno 2] No such file or directory: '//oit-nas-fe13dc.oit.duke.edu//data_commons-borsuk//voc_data_folder\\\\train\\\\images\\\\m_3809023_se_15_060_20190923_17_03.jpg'"
     ]
    }
   ],
   "source": [
    "for i, (img_path, img_id) in enumerate(zip(train_img_paths, train_img_ids)):\n",
    "    \n",
    "    shutil.copy(img_path, os.path.join(voc_data_folder, \"train\", \"images\", img_id+\".jpg\"))\n",
    "    #xml_path = img_path.replace('chips_positive', 'chips_positive_xml')\n",
    "    #xml_path = xml_path.replace(\"jpg\",\"xml\")\n",
    "    #shutil.copy(xml_path, os.path.join(data_folder, \"train\", \"labels\", img_id+\".xml\"))"
   ]
  },
  {
   "cell_type": "code",
   "execution_count": 6,
   "id": "94150761-731e-414b-8c46-8490a778df62",
   "metadata": {},
   "outputs": [],
   "source": [
    "\n",
    "with open(\"//oit-nas-fe13dc.oit.duke.edu//data_commons-borsuk//save_dir/val_img_paths.txt\") as f:\n",
    "    lines = f.readlines()"
   ]
  },
  {
   "cell_type": "code",
   "execution_count": 11,
   "id": "c06e622a-0e18-491f-847d-2889b59e3592",
   "metadata": {},
   "outputs": [
    {
     "data": {
      "text/plain": [
       "['//oit-nas-fe13dc.oit.duke.edu//data_commons-borsuk//complete_dataset_/chips_positive\\\\m_3809031_sw_15_060_20181121_04_02.jpg\\n',\n",
       " '//oit-nas-fe13dc.oit.duke.edu//data_commons-borsuk//complete_dataset_/chips_positive\\\\m_3009354_ne_15_060_20190905_05_15.jpg\\n',\n",
       " '//oit-nas-fe13dc.oit.duke.edu//data_commons-borsuk//complete_dataset_/chips_positive\\\\m_3210436_nw_13_060_20180614_04_09.jpg\\n',\n",
       " '//oit-nas-fe13dc.oit.duke.edu//data_commons-borsuk//complete_dataset_/chips_positive\\\\m_3510022_nw_14_060_20180930_15_02.jpg\\n',\n",
       " '//oit-nas-fe13dc.oit.duke.edu//data_commons-borsuk//complete_dataset_/chips_positive\\\\m_4109328_se_15_060_20190822_00_10.jpg\\n',\n",
       " '//oit-nas-fe13dc.oit.duke.edu//data_commons-borsuk//complete_dataset_/chips_positive\\\\m_4207801_ne_17_060_20190906_04_02.jpg\\n',\n",
       " '//oit-nas-fe13dc.oit.duke.edu//data_commons-borsuk//complete_dataset_/chips_positive\\\\m_3909459_ne_15_060_20190712_02_04.jpg\\n',\n",
       " '//oit-nas-fe13dc.oit.duke.edu//data_commons-borsuk//complete_dataset_/chips_positive\\\\m_2909006_nw_15_060_20190707_22_15.jpg\\n',\n",
       " '//oit-nas-fe13dc.oit.duke.edu//data_commons-borsuk//complete_dataset_/chips_positive\\\\m_3907507_nw_18_060_20191019_06_17.jpg\\n',\n",
       " '//oit-nas-fe13dc.oit.duke.edu//data_commons-borsuk//complete_dataset_/chips_positive\\\\m_3210447_se_13_060_20180506_07_06.jpg\\n']"
      ]
     },
     "execution_count": 11,
     "metadata": {},
     "output_type": "execute_result"
    }
   ],
   "source": [
    "my_file = open(\"//oit-nas-fe13dc.oit.duke.edu//data_commons-borsuk//save_dir/img_path.txt\", \"r\")\n",
    "content_list = my_file.readlines()\n",
    "content_list[0:10]"
   ]
  },
  {
   "cell_type": "code",
   "execution_count": null,
   "id": "7a0d0f89-5abb-482a-9871-137fcadf41d0",
   "metadata": {},
   "outputs": [],
   "source": [
    "# Create a basic model instance\n",
    "model = create_model()\n",
    "\n",
    "# Evaluate the model\n",
    "loss, acc = model.evaluate(test_images, test_labels, verbose=2)\n",
    "print(\"Untrained model, accuracy: {:5.2f}%\".format(100 * acc))\n",
    "\n",
    "# Loads the weights\n",
    "model.load_weights(\"C:\\safety_save\\lr0.01_lrdecay0.9_epoch50checkpoint_frcnn.pth.tar\")\n",
    "\n",
    "# Re-evaluate the model\n",
    "loss, acc = model.evaluate(test_images, test_labels, verbose=2)\n",
    "print(\"Restored model, accuracy: {:5.2f}%\".format(100 * acc))"
   ]
  }
 ],
 "metadata": {
  "kernelspec": {
   "display_name": "yolov7 env",
   "language": "python",
   "name": "yolov7"
  },
  "language_info": {
   "codemirror_mode": {
    "name": "ipython",
    "version": 3
   },
   "file_extension": ".py",
   "mimetype": "text/x-python",
   "name": "python",
   "nbconvert_exporter": "python",
   "pygments_lexer": "ipython3",
   "version": "3.10.0"
  }
 },
 "nbformat": 4,
 "nbformat_minor": 5
}
