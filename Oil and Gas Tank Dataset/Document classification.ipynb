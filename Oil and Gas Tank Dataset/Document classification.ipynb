{
 "cells": [
  {
   "cell_type": "code",
   "execution_count": 1,
   "metadata": {},
   "outputs": [],
   "source": [
    "#according to the extension name, I divided the documents into images, txt, and xml. (txt and xml are annotations in different format. )\n",
    "\n",
    "def doc_class(path):\n",
    "    \"\"\"Classify the files according to their types.\n",
    "    \n",
    "    Args: \n",
    "        jpg_path (str): The path to save image files.\n",
    "        xml_path (str): The path to save xml files.\n",
    "        txt_path (str): The path to save txt files.\n",
    "        filelist (list): a list of all the files\n",
    "        Olddir (str): The path of a file. \n",
    "        filename (str): The file name of the file excluding the extension name\n",
    "        filetype (str): The extension name of the file\n",
    "        Newdir (str): The path to save the file as new name.\n",
    "        \n",
    "    Returns: \n",
    "        \n",
    "    \"\"\"\n",
    "    import os\n",
    "\n",
    "    jpg_path = path + \"images/\"\n",
    "    txt_path = path + \"./txt/\"\n",
    "    xml_path = path + \"./xml/\"\n",
    "    filelist = os.listdir(path)\n",
    "    count=0\n",
    "\n",
    "    for file in filelist:\n",
    "        Olddir=os.path.join(path,file)\n",
    "        if os.path.isdir(Olddir): \n",
    "            continue\n",
    "        filename=os.path.splitext(file)[0]\n",
    "        filetype=os.path.splitext(file)[1]\n",
    "        if filetype == \".png\":\n",
    "            Newdir=jpg_path + filename +\".jpg\"  \n",
    "            os.rename(Olddir,Newdir)\n",
    "        if filetype == \".txt\":\n",
    "            Newdir=txt_path + filename +\".txt\" \n",
    "            os.rename(Olddir,Newdir)\n",
    "        if filetype == \".xml\":\n",
    "            Newdir=xml_path + filename +\".xml\"\n",
    "            os.rename(Olddir,Newdir)   \n",
    "    \n",
    "        count+=1\n",
    "    print(count)"
   ]
  },
  {
   "cell_type": "code",
   "execution_count": 2,
   "metadata": {},
   "outputs": [
    {
     "name": "stdout",
     "output_type": "stream",
     "text": [
      "2\n"
     ]
    }
   ],
   "source": [
    "if __name__ == '__main__':\n",
    "    \"\"\"Run model.\n",
    "    \n",
    "    Args: \n",
    "        path (str): The path of work direction.\n",
    "        \n",
    "    Returns: \n",
    "        \n",
    "    \"\"\"\n",
    "    path = \"./\"\n",
    "    doc_class(path)"
   ]
  },
  {
   "cell_type": "code",
   "execution_count": null,
   "metadata": {},
   "outputs": [],
   "source": []
  }
 ],
 "metadata": {
  "kernelspec": {
   "display_name": "Python 3",
   "language": "python",
   "name": "python3"
  },
  "language_info": {
   "codemirror_mode": {
    "name": "ipython",
    "version": 3
   },
   "file_extension": ".py",
   "mimetype": "text/x-python",
   "name": "python",
   "nbconvert_exporter": "python",
   "pygments_lexer": "ipython3",
   "version": "3.8.5"
  }
 },
 "nbformat": 4,
 "nbformat_minor": 4
}
